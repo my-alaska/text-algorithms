{
 "cells": [
  {
   "cell_type": "markdown",
   "id": "17d49731",
   "metadata": {},
   "source": [
    "# Knuth Morris Pratt pattern searching algorithm\n",
    "\n",
    "While reading a pattern `abcdabce` we can see that the sequence `abc` appears twice.\n",
    "\n",
    "- This pattern contains a prefix of itself later in the word. The resulting array of `prefix()` function tells us \"what letter will improve the length of the longest prefix we are currently reading\"\n",
    "\n",
    "- In this case the first 4 letters `abcd` don't repeat the prefix of the word. The words starts with `a`  so to extend the prefix a letter a should appear.\n",
    "\n",
    "- After letter `a` reappears and we read a word `abcda` we are waiting for the 2nd letter of the word - `b` - if it appears, the longest reappearance of the prefix, currently consisting only of letter `a` will be extended.\n",
    "\n",
    "- We can use indexing to answer \"what letter are we expecting to extend the best possible prefix\"\n",
    "\n"
   ]
  },
  {
   "cell_type": "code",
   "id": "c188e989",
   "metadata": {
    "ExecuteTime": {
     "end_time": "2025-04-02T20:15:26.847820Z",
     "start_time": "2025-04-02T20:15:26.843286Z"
    }
   },
   "source": [
    "# function for generating prefix instructions for kmp algorithm\n",
    "\n",
    "\n",
    "def prefix(pattern):\n",
    "    # result contains indices of letters currently expected to extend the longest prefix\n",
    "    result = [0]\n",
    "\n",
    "    # index of the letter we expect to extend the current prefix\n",
    "    prefix_idx = 0\n",
    "\n",
    "    # iterate over letters in the pattern starting from the 2nd one\n",
    "    for letter in pattern[1:]:\n",
    "\n",
    "        # Find the best possible prefix for the new letter.\n",
    "        # If the new letter doesn't exted the prefix right away we have to go to a shorter one.\n",
    "        # Fortunately we can use teh result array to instantly find the next best prefix-es\n",
    "        while prefix_idx > 0 and pattern[prefix_idx] != letter:\n",
    "            prefix_idx = result[prefix_idx - 1]\n",
    "\n",
    "        # We extend the longest prefix if the current letter matches the letter we expect\n",
    "        if pattern[prefix_idx] == letter:\n",
    "            prefix_idx += 1\n",
    "\n",
    "        result.append(prefix_idx)\n",
    "\n",
    "    # We get a list of instructions on how to travel back through 'states' to get the best prefix in case of mismatch\n",
    "    return result"
   ],
   "outputs": [],
   "execution_count": 27
  },
  {
   "cell_type": "code",
   "id": "878413dc",
   "metadata": {
    "ExecuteTime": {
     "end_time": "2025-04-02T20:38:23.964165Z",
     "start_time": "2025-04-02T20:38:23.959537Z"
    }
   },
   "source": [
    "# kmp function that takes a pattern and text\n",
    "# it returns indexes at which this pattern starts in the text\n",
    "\n",
    "\n",
    "def kmp(pattern, text):\n",
    "    # transition instruction\n",
    "    prefix_array = prefix(pattern)\n",
    "\n",
    "    # Which letter from the pattern are we expecting to extend the best prefix\n",
    "    prefix_idx = 0\n",
    "\n",
    "    result = []\n",
    "\n",
    "    # iterate over letters in text\n",
    "    for i, letter in enumerate(text):\n",
    "\n",
    "        # find the best prefix that is extended by the new letter\n",
    "        # this loop is skipped if the letter already extends the best prefix\n",
    "        # pattern[prefix_idx] tells us what letter we expect to extend the current longest prefix\n",
    "        while prefix_idx > 0 and pattern[prefix_idx] != letter:\n",
    "            prefix_idx = prefix_array[prefix_idx - 1]\n",
    "\n",
    "        if pattern[prefix_idx] == letter:\n",
    "            prefix_idx += 1\n",
    "\n",
    "        # if we found the pattern we add it to the result\n",
    "        if prefix_idx == len(pattern):\n",
    "            result.append(i - prefix_idx + 1)\n",
    "\n",
    "            # we don't reset the state in case the suffix of the pattern is also a\n",
    "            prefix_idx = prefix_array[prefix_idx - 1]\n",
    "\n",
    "    return result"
   ],
   "outputs": [],
   "execution_count": 32
  },
  {
   "cell_type": "code",
   "source": [
    "test_cases = [\n",
    "    ((\"abc\", \"xabcyabcabc\"), [1, 5, 8]),\n",
    "    ((\"hello\", \"hello world, hello again!\"), [0, 13]),\n",
    "    ((\"aa\", \"aaaaa\"), [0, 1, 2, 3]),\n",
    "    ((\"xyz\", \"abcdefg\"), []),\n",
    "    ((\"m\", \"mommy mammal\"), [0, 2, 3, 6, 8, 9]),\n",
    "    ((\"abc\", \"abacabcabdabadabc\"), [4, 14]),\n",
    "]\n",
    "\n",
    "for (pattern, text), result in test_cases:\n",
    "    print(kmp(pattern, text))\n",
    "    print(result)"
   ],
   "metadata": {
    "collapsed": false,
    "ExecuteTime": {
     "end_time": "2025-04-02T20:38:24.183611Z",
     "start_time": "2025-04-02T20:38:24.178362Z"
    }
   },
   "id": "4314a3e1072bbbfc",
   "outputs": [
    {
     "name": "stdout",
     "output_type": "stream",
     "text": [
      "[1, 5, 8]\n",
      "[1, 5, 8]\n",
      "[0, 13]\n",
      "[0, 13]\n",
      "[0, 1, 2, 3]\n",
      "[0, 1, 2, 3]\n",
      "[]\n",
      "[]\n",
      "[0, 2, 3, 6, 8, 9]\n",
      "[0, 2, 3, 6, 8, 9]\n",
      "[4, 14]\n",
      "[4, 14]\n"
     ]
    }
   ],
   "execution_count": 33
  },
  {
   "metadata": {
    "ExecuteTime": {
     "end_time": "2025-04-02T20:38:24.395130Z",
     "start_time": "2025-04-02T20:38:24.391266Z"
    }
   },
   "cell_type": "code",
   "source": "prefix(\"abcacabcab\")",
   "id": "769242f7ddfb0f08",
   "outputs": [
    {
     "data": {
      "text/plain": [
       "[0, 0, 0, 1, 0, 1, 2, 3, 4, 2]"
      ]
     },
     "execution_count": 34,
     "metadata": {},
     "output_type": "execute_result"
    }
   ],
   "execution_count": 34
  },
  {
   "metadata": {},
   "cell_type": "code",
   "outputs": [],
   "execution_count": null,
   "source": "",
   "id": "79bd4cbdcc957c8f"
  }
 ],
 "metadata": {
  "kernelspec": {
   "display_name": "Python 3 (ipykernel)",
   "language": "python",
   "name": "python3"
  },
  "language_info": {
   "codemirror_mode": {
    "name": "ipython",
    "version": 3
   },
   "file_extension": ".py",
   "mimetype": "text/x-python",
   "name": "python",
   "nbconvert_exporter": "python",
   "pygments_lexer": "ipython3",
   "version": "3.10.4"
  }
 },
 "nbformat": 4,
 "nbformat_minor": 5
}
