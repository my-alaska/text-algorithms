{
 "cells": [
  {
   "cell_type": "markdown",
   "id": "2cead3d7",
   "metadata": {},
   "source": [
    "# Finite Automata pattern searching algorithm\n",
    "\n",
    "In finite automata algorithm we want to create a method that finds all occurences of a pattern in text in O(n) time.\n",
    "\n",
    "Do dothat we use a delta function - a function that defines a state machine for given pattern.\n",
    "\n",
    "The complexity of delta function creation is O(m\\*m\\*s) where m is the pattern length and s is the alphabet size"
   ]
  },
  {
   "cell_type": "code",
   "id": "13084e27",
   "metadata": {
    "ExecuteTime": {
     "end_time": "2025-04-02T19:37:06.750559Z",
     "start_time": "2025-04-02T19:37:06.746521Z"
    }
   },
   "source": [
    "# get delta dict with state change mapping\n",
    "def get_delta(pattern):\n",
    "    result = [{}] + [{} for _ in pattern]\n",
    "\n",
    "    unique_letters = set(pattern)\n",
    "\n",
    "    # create state mapping for each of the states\n",
    "    # Each state corresponds to a pattern match\n",
    "    # We are in the state N only if the last N letters of currently read text T,\n",
    "    # match the first N letters of the pattern P\n",
    "    for i, state_map in enumerate(result):\n",
    "        current_match = pattern[:i]\n",
    "\n",
    "        # a state change needs to be defined for every letter\n",
    "        for letter in unique_letters:\n",
    "\n",
    "            # Iterate backwards over prefixes of already matched pattern.\n",
    "            # We're searching for the best (longest) prefix of the pattern,\n",
    "            # that matches the `current_match + letter` string\n",
    "            for k in range(len(current_match) + 1, -1, -1):\n",
    "                if pattern[:k] == (current_match + letter)[-k:]:\n",
    "                    break\n",
    "\n",
    "            state_map[letter] = k\n",
    "\n",
    "    return result"
   ],
   "outputs": [],
   "execution_count": 25
  },
  {
   "metadata": {},
   "cell_type": "markdown",
   "source": "We can finally define the finite automata function for matching pattern in text.",
   "id": "ed78148f5be66a67"
  },
  {
   "cell_type": "code",
   "id": "b67d0b45",
   "metadata": {
    "ExecuteTime": {
     "end_time": "2025-04-02T19:37:07.455632Z",
     "start_time": "2025-04-02T19:37:07.452318Z"
    }
   },
   "source": [
    "def finite_automata(pattern, text):\n",
    "    pattern_length = len(pattern)\n",
    "\n",
    "    delta = get_delta(pattern)\n",
    "    current_state = 0\n",
    "\n",
    "    result = []\n",
    "\n",
    "    # iterate over all letters in text\n",
    "    for i, letter in enumerate(text):\n",
    "\n",
    "        # get state change from delta function or go back to state 0 if no good match can be found\n",
    "        current_state = delta[current_state].get(letter, 0)\n",
    "\n",
    "        # if we found the pattern\n",
    "        if current_state == pattern_length:\n",
    "            result.append(i - current_state + 1)\n",
    "\n",
    "    return result"
   ],
   "outputs": [],
   "execution_count": 26
  },
  {
   "cell_type": "code",
   "source": [
    "test_cases = [\n",
    "    ((\"abc\", \"xabcyabcabc\"), [1, 5, 8]),\n",
    "    ((\"hello\", \"hello world, hello again!\"), [0, 13]),\n",
    "    ((\"aa\", \"aaaaa\"), [0, 1, 2, 3]),\n",
    "    ((\"xyz\", \"abcdefg\"), []),\n",
    "    ((\"m\", \"mommy mammal\"), [0, 2, 3, 6, 8, 9]),\n",
    "]\n",
    "\n",
    "for (pattern, text), result in test_cases:\n",
    "    print(finite_automata(pattern, text))\n",
    "    print(result)"
   ],
   "metadata": {
    "collapsed": false,
    "ExecuteTime": {
     "end_time": "2025-04-02T19:37:08.003052Z",
     "start_time": "2025-04-02T19:37:07.998469Z"
    }
   },
   "id": "2ebc9020a64742eb",
   "outputs": [
    {
     "name": "stdout",
     "output_type": "stream",
     "text": [
      "[1, 5, 8]\n",
      "[1, 5, 8]\n",
      "[0, 13]\n",
      "[0, 13]\n",
      "[0, 1, 2, 3]\n",
      "[0, 1, 2, 3]\n",
      "[]\n",
      "[]\n",
      "[0, 2, 3, 6, 8, 9]\n",
      "[0, 2, 3, 6, 8, 9]\n"
     ]
    }
   ],
   "execution_count": 27
  },
  {
   "metadata": {},
   "cell_type": "code",
   "outputs": [],
   "execution_count": null,
   "source": "",
   "id": "32f6b56d5193f5b0"
  }
 ],
 "metadata": {
  "kernelspec": {
   "display_name": "Python 3 (ipykernel)",
   "language": "python",
   "name": "python3"
  },
  "language_info": {
   "codemirror_mode": {
    "name": "ipython",
    "version": 3
   },
   "file_extension": ".py",
   "mimetype": "text/x-python",
   "name": "python",
   "nbconvert_exporter": "python",
   "pygments_lexer": "ipython3",
   "version": "3.10.4"
  }
 },
 "nbformat": 4,
 "nbformat_minor": 5
}
