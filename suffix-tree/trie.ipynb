{
 "cells": [
  {
   "cell_type": "markdown",
   "id": "7a3a048e",
   "metadata": {},
   "source": [
    "# trie structure"
   ]
  },
  {
   "cell_type": "code",
   "execution_count": 1,
   "id": "e2135baf",
   "metadata": {
    "ExecuteTime": {
     "end_time": "2024-01-08T18:52:20.414065100Z",
     "start_time": "2024-01-08T18:52:20.389064200Z"
    }
   },
   "outputs": [],
   "source": [
    "from graphviz import Source"
   ]
  },
  {
   "cell_type": "code",
   "execution_count": 2,
   "id": "485298d3",
   "metadata": {
    "ExecuteTime": {
     "end_time": "2024-01-08T18:52:20.908513900Z",
     "start_time": "2024-01-08T18:52:20.890814900Z"
    }
   },
   "outputs": [],
   "source": [
    "class TrieNode:\n",
    "    # for visualisation\n",
    "    counter = 1\n",
    "    \n",
    "    def __init__(self,letter = '', parent = None, depth = 0):\n",
    "        self.letter = letter\n",
    "        self.parent = parent\n",
    "        self.depth = depth\n",
    "        self.children = {}\n",
    "        \n",
    "        # for finding a stubstring in text\n",
    "        self.leaf_index = None\n",
    "        \n",
    "        # for visualisation\n",
    "        self.id = TrieNode.counter\n",
    "        self.label = letter\n",
    "        TrieNode.counter += 1\n",
    "    \n",
    "    \n",
    "    \n",
    "    # grafting is an opperation that adds a new tree branch to the trie structure\n",
    "    # this function allows us to graft either by passing a whole string to the root of the trie\n",
    "    # or suffix of a suffix to the head(a node that en)\n",
    "    def graft(self, string):\n",
    "        node = self\n",
    "        # we travel down the subtree following the order of letters in a string \n",
    "        for letter in string:\n",
    "            # if there's no branch corrseponding to our letter, we just create a new one\n",
    "            if not letter in node.children.keys():\n",
    "                node.children[letter] = TrieNode(letter,node,node.depth+1)\n",
    "            node = node.children[letter]\n",
    "        return node\n",
    "    \n",
    "    \n",
    "    \n",
    "    # functions for visualisation\n",
    "    def dot_node(self):\n",
    "        return f'{self.id} [label=\"\", shape=\"point\"];'\n",
    "    \n",
    "    def dot_edges(self):\n",
    "        result = []\n",
    "        for child in self.children.values():\n",
    "            result.append(f'{self.id} -> {child.id}[arrowhead=\"none\", label=\" {child.label}\"];')\n",
    "        return \"\\n\".join(result)\n",
    "    \n",
    "    def get_all_children(self):\n",
    "        result = [self]\n",
    "        for child in self.children.values():\n",
    "            result += child.get_all_children()\n",
    "        return result \n",
    "    \n",
    "    def show_tree(self):\n",
    "        nodes = self.get_all_children()\n",
    "        TrieNode.show_graph(nodes)\n",
    "    \n",
    "    @staticmethod\n",
    "    def show_graph(nodes):\n",
    "        result = \"digraph{\\n\"\n",
    "        ranks = {}\n",
    "\n",
    "        for node in nodes:\n",
    "            result += node.dot_node() + \"\\n\"\n",
    "            result += node.dot_edges() + \"\\n\"\n",
    "            if(node.depth not in ranks):\n",
    "                ranks[node.depth] = []\n",
    "            ranks[node.depth].append(node.id)\n",
    "        for key, values in ranks.items():\n",
    "            values = \" \".join([f\"{v};\" for v in values])\n",
    "            result += \" { rank=same; \" + values + \"}\\n\"\n",
    "        result += \"\\n}\"\n",
    "        s = Source(result)\n",
    "        display(s)   "
   ]
  },
  {
   "cell_type": "code",
   "execution_count": 3,
   "id": "321858ba",
   "metadata": {
    "ExecuteTime": {
     "end_time": "2024-01-08T18:52:21.106039200Z",
     "start_time": "2024-01-08T18:52:21.085874200Z"
    }
   },
   "outputs": [],
   "source": [
    "class Trie:\n",
    "    def __init__(self,text):\n",
    "        \n",
    "        # we initialize the root node\n",
    "        self.root = TrieNode()\n",
    "        leaf = self.root.graft(text)\n",
    "        leaf.leaf_index = 0\n",
    "        \n",
    "        # for each suffix...\n",
    "        for i in range(1,len(text)):\n",
    "            suffix = text[i:]\n",
    "            \n",
    "            # ...we find the 'head' - a node at which we'll have to start creating new path\n",
    "            head = self.find(suffix,leaf)\n",
    "            \n",
    "            # we cut the remaining part of the suffix to get the part that we'll graft in a tree\n",
    "            suffix_end = suffix[head.depth:]\n",
    "            \n",
    "            # we graft it\n",
    "            leaf = head.graft(suffix_end)\n",
    "            \n",
    "            # and we index the leaf to allow us to look up strgins easily\n",
    "            leaf.leaf_index = i\n",
    "    \n",
    "    \n",
    "    \n",
    "    # find function follows the path down the trie along with certain order of letters\n",
    "    # it returns a node at which we can't find any matching children\n",
    "    def find(self,suffix,leaf):\n",
    "        node = self.root\n",
    "        i = 0\n",
    "        while suffix[i] in node.children.keys():\n",
    "            node = node.children[suffix[i]]\n",
    "            i+=1\n",
    "        return node\n",
    "    \n",
    "    \n",
    "    \n",
    "    # this function, for certain pattern, returns indexes at which that pattern starts\n",
    "    def find_string(self,pattern):\n",
    "        # we initialize the result\n",
    "        result = []\n",
    "        \n",
    "        # the depth-first search recursive function that finds every leaf in a subtree and adds it to the resulting set\n",
    "        def dfs(node):\n",
    "            if len(node.children) == 0:\n",
    "                result.append(node.leaf_index)\n",
    "            else:\n",
    "                for child in node.children.values():\n",
    "                    dfs(child)\n",
    "        \n",
    "        # we travel down the tree along the path definted by the pattern\n",
    "        node = self.root\n",
    "        for letter in pattern:\n",
    "            if letter in node.children.keys():\n",
    "                node = node.children[letter]\n",
    "            else:\n",
    "                # if such path doesn't exist, it means that our pattern doesn't appear in the text\n",
    "                return []\n",
    "        \n",
    "        # when we reach the end of the path defined by the pattern we have to run dfs function \n",
    "        # it will allow us to find every leaf of this brach\n",
    "        # those leavest store information about every index at which our pattern begins in the text\n",
    "        dfs(node)\n",
    "        return result\n",
    "    \n",
    "    \n",
    "    \n",
    "    # visualisation\n",
    "    def show_trie(self):\n",
    "        self.root.show_tree()  "
   ]
  },
  {
   "cell_type": "code",
   "execution_count": 4,
   "id": "63a56a02",
   "metadata": {
    "ExecuteTime": {
     "end_time": "2024-01-08T18:52:21.298568300Z",
     "start_time": "2024-01-08T18:52:21.268515300Z"
    }
   },
   "outputs": [
    {
     "data": {
      "image/svg+xml": "<?xml version=\"1.0\" encoding=\"UTF-8\" standalone=\"no\"?>\n<!DOCTYPE svg PUBLIC \"-//W3C//DTD SVG 1.1//EN\"\n \"http://www.w3.org/Graphics/SVG/1.1/DTD/svg11.dtd\">\n<!-- Generated by graphviz version 9.0.0 (20230911.1827)\n -->\n<!-- Pages: 1 -->\n<svg width=\"83pt\" height=\"233pt\"\n viewBox=\"0.00 0.00 82.59 233.00\" xmlns=\"http://www.w3.org/2000/svg\" xmlns:xlink=\"http://www.w3.org/1999/xlink\">\n<g id=\"graph0\" class=\"graph\" transform=\"scale(1 1) rotate(0) translate(4 229)\">\n<polygon fill=\"white\" stroke=\"none\" points=\"-4,4 -4,-229 78.59,-229 78.59,4 -4,4\"/>\n<!-- 1 -->\n<g id=\"node1\" class=\"node\">\n<title>1</title>\n<ellipse fill=\"black\" stroke=\"black\" cx=\"53.09\" cy=\"-223.2\" rx=\"1.8\" ry=\"1.8\"/>\n</g>\n<!-- 2 -->\n<g id=\"node2\" class=\"node\">\n<title>2</title>\n<ellipse fill=\"black\" stroke=\"black\" cx=\"36.09\" cy=\"-167.85\" rx=\"1.8\" ry=\"1.8\"/>\n</g>\n<!-- 1&#45;&gt;2 -->\n<g id=\"edge1\" class=\"edge\">\n<title>1&#45;&gt;2</title>\n<path fill=\"none\" stroke=\"black\" d=\"M51.93,-221.35C48.78,-218.95 40.06,-211.78 36.84,-203.4 32.1,-191.08 34.95,-174.42 35.85,-169.98\"/>\n<text text-anchor=\"middle\" x=\"42.72\" y=\"-190.1\" font-family=\"Times New Roman,serif\" font-size=\"14.00\"> b</text>\n</g>\n<!-- 8 -->\n<g id=\"node3\" class=\"node\">\n<title>8</title>\n<ellipse fill=\"black\" stroke=\"black\" cx=\"70.09\" cy=\"-167.85\" rx=\"1.8\" ry=\"1.8\"/>\n</g>\n<!-- 1&#45;&gt;8 -->\n<g id=\"edge2\" class=\"edge\">\n<title>1&#45;&gt;8</title>\n<path fill=\"none\" stroke=\"black\" d=\"M53.39,-221.27C55.43,-214.85 67.49,-177.01 69.73,-169.98\"/>\n<text text-anchor=\"middle\" x=\"69.34\" y=\"-190.1\" font-family=\"Times New Roman,serif\" font-size=\"14.00\"> $</text>\n</g>\n<!-- 3 -->\n<g id=\"node4\" class=\"node\">\n<title>3</title>\n<ellipse fill=\"black\" stroke=\"black\" cx=\"19.09\" cy=\"-112.5\" rx=\"1.8\" ry=\"1.8\"/>\n</g>\n<!-- 2&#45;&gt;3 -->\n<g id=\"edge3\" class=\"edge\">\n<title>2&#45;&gt;3</title>\n<path fill=\"none\" stroke=\"black\" d=\"M34.93,-166C31.78,-163.6 23.06,-156.43 19.84,-148.05 15.1,-135.73 17.95,-119.07 18.85,-114.63\"/>\n<text text-anchor=\"middle\" x=\"25.72\" y=\"-134.75\" font-family=\"Times New Roman,serif\" font-size=\"14.00\"> b</text>\n</g>\n<!-- 7 -->\n<g id=\"node5\" class=\"node\">\n<title>7</title>\n<ellipse fill=\"black\" stroke=\"black\" cx=\"53.09\" cy=\"-112.5\" rx=\"1.8\" ry=\"1.8\"/>\n</g>\n<!-- 2&#45;&gt;7 -->\n<g id=\"edge4\" class=\"edge\">\n<title>2&#45;&gt;7</title>\n<path fill=\"none\" stroke=\"black\" d=\"M36.39,-165.92C38.43,-159.5 50.49,-121.66 52.73,-114.63\"/>\n<text text-anchor=\"middle\" x=\"52.34\" y=\"-134.75\" font-family=\"Times New Roman,serif\" font-size=\"14.00\"> $</text>\n</g>\n<!-- 4 -->\n<g id=\"node6\" class=\"node\">\n<title>4</title>\n<ellipse fill=\"black\" stroke=\"black\" cx=\"2.09\" cy=\"-57.15\" rx=\"1.8\" ry=\"1.8\"/>\n</g>\n<!-- 3&#45;&gt;4 -->\n<g id=\"edge5\" class=\"edge\">\n<title>3&#45;&gt;4</title>\n<path fill=\"none\" stroke=\"black\" d=\"M17.93,-110.65C14.78,-108.25 6.06,-101.08 2.84,-92.7 -1.9,-80.38 0.95,-63.72 1.85,-59.28\"/>\n<text text-anchor=\"middle\" x=\"8.72\" y=\"-79.4\" font-family=\"Times New Roman,serif\" font-size=\"14.00\"> b</text>\n</g>\n<!-- 6 -->\n<g id=\"node7\" class=\"node\">\n<title>6</title>\n<ellipse fill=\"black\" stroke=\"black\" cx=\"36.09\" cy=\"-57.15\" rx=\"1.8\" ry=\"1.8\"/>\n</g>\n<!-- 3&#45;&gt;6 -->\n<g id=\"edge6\" class=\"edge\">\n<title>3&#45;&gt;6</title>\n<path fill=\"none\" stroke=\"black\" d=\"M19.39,-110.57C21.43,-104.15 33.49,-66.31 35.73,-59.28\"/>\n<text text-anchor=\"middle\" x=\"35.34\" y=\"-79.4\" font-family=\"Times New Roman,serif\" font-size=\"14.00\"> $</text>\n</g>\n<!-- 5 -->\n<g id=\"node8\" class=\"node\">\n<title>5</title>\n<ellipse fill=\"black\" stroke=\"black\" cx=\"2.09\" cy=\"-1.8\" rx=\"1.8\" ry=\"1.8\"/>\n</g>\n<!-- 4&#45;&gt;5 -->\n<g id=\"edge7\" class=\"edge\">\n<title>4&#45;&gt;5</title>\n<path fill=\"none\" stroke=\"black\" d=\"M2.09,-55.22C2.09,-48.8 2.09,-10.96 2.09,-3.93\"/>\n<text text-anchor=\"middle\" x=\"7.34\" y=\"-24.05\" font-family=\"Times New Roman,serif\" font-size=\"14.00\"> $</text>\n</g>\n</g>\n</svg>\n",
      "text/plain": "<graphviz.sources.Source at 0x26d49e73a90>"
     },
     "metadata": {},
     "output_type": "display_data"
    }
   ],
   "source": [
    "text0 = \"bbb$\"\n",
    "trie0 = Trie(text0)\n",
    "trie0.show_trie()"
   ]
  },
  {
   "cell_type": "code",
   "execution_count": 5,
   "id": "cd39a266",
   "metadata": {
    "ExecuteTime": {
     "end_time": "2024-01-08T18:52:21.786390100Z",
     "start_time": "2024-01-08T18:52:21.749391300Z"
    }
   },
   "outputs": [
    {
     "data": {
      "image/svg+xml": "<?xml version=\"1.0\" encoding=\"UTF-8\" standalone=\"no\"?>\n<!DOCTYPE svg PUBLIC \"-//W3C//DTD SVG 1.1//EN\"\n \"http://www.w3.org/Graphics/SVG/1.1/DTD/svg11.dtd\">\n<!-- Generated by graphviz version 9.0.0 (20230911.1827)\n -->\n<!-- Pages: 1 -->\n<svg width=\"237pt\" height=\"565pt\"\n viewBox=\"0.00 0.00 236.60 565.10\" xmlns=\"http://www.w3.org/2000/svg\" xmlns:xlink=\"http://www.w3.org/1999/xlink\">\n<g id=\"graph0\" class=\"graph\" transform=\"scale(1 1) rotate(0) translate(4 561.1)\">\n<polygon fill=\"white\" stroke=\"none\" points=\"-4,4 -4,-561.1 232.6,-561.1 232.6,4 -4,4\"/>\n<!-- 9 -->\n<g id=\"node1\" class=\"node\">\n<title>9</title>\n<ellipse fill=\"black\" stroke=\"black\" cx=\"175.8\" cy=\"-555.3\" rx=\"1.8\" ry=\"1.8\"/>\n</g>\n<!-- 10 -->\n<g id=\"node2\" class=\"node\">\n<title>10</title>\n<ellipse fill=\"black\" stroke=\"black\" cx=\"92.8\" cy=\"-499.95\" rx=\"1.8\" ry=\"1.8\"/>\n</g>\n<!-- 9&#45;&gt;10 -->\n<g id=\"edge1\" class=\"edge\">\n<title>9&#45;&gt;10</title>\n<path fill=\"none\" stroke=\"black\" d=\"M174.57,-553.61C170.31,-551.2 155.74,-542.9 144.05,-535.5 123.73,-522.65 99.73,-505.84 94.05,-501.83\"/>\n<text text-anchor=\"middle\" x=\"149.68\" y=\"-522.2\" font-family=\"Times New Roman,serif\" font-size=\"14.00\"> a</text>\n</g>\n<!-- 20 -->\n<g id=\"node3\" class=\"node\">\n<title>20</title>\n<ellipse fill=\"black\" stroke=\"black\" cx=\"158.8\" cy=\"-499.95\" rx=\"1.8\" ry=\"1.8\"/>\n</g>\n<!-- 9&#45;&gt;20 -->\n<g id=\"edge2\" class=\"edge\">\n<title>9&#45;&gt;20</title>\n<path fill=\"none\" stroke=\"black\" d=\"M174.64,-553.45C171.49,-551.05 162.77,-543.88 159.55,-535.5 154.81,-523.18 157.66,-506.52 158.56,-502.08\"/>\n<text text-anchor=\"middle\" x=\"165.43\" y=\"-522.2\" font-family=\"Times New Roman,serif\" font-size=\"14.00\"> b</text>\n</g>\n<!-- 46 -->\n<g id=\"node4\" class=\"node\">\n<title>46</title>\n<ellipse fill=\"black\" stroke=\"black\" cx=\"198.8\" cy=\"-499.95\" rx=\"1.8\" ry=\"1.8\"/>\n</g>\n<!-- 9&#45;&gt;46 -->\n<g id=\"edge3\" class=\"edge\">\n<title>9&#45;&gt;46</title>\n<path fill=\"none\" stroke=\"black\" d=\"M176.2,-553.37C178.97,-546.95 195.28,-509.11 198.31,-502.08\"/>\n<text text-anchor=\"middle\" x=\"196.05\" y=\"-522.2\" font-family=\"Times New Roman,serif\" font-size=\"14.00\"> c</text>\n</g>\n<!-- 48 -->\n<g id=\"node5\" class=\"node\">\n<title>48</title>\n<ellipse fill=\"black\" stroke=\"black\" cx=\"226.8\" cy=\"-499.95\" rx=\"1.8\" ry=\"1.8\"/>\n</g>\n<!-- 9&#45;&gt;48 -->\n<g id=\"edge4\" class=\"edge\">\n<title>9&#45;&gt;48</title>\n<path fill=\"none\" stroke=\"black\" d=\"M177.28,-553.63C181.83,-551.5 195.84,-544.53 204.8,-535.5 215.82,-524.39 224.15,-506.86 226.27,-502.15\"/>\n<text text-anchor=\"middle\" x=\"222.43\" y=\"-522.2\" font-family=\"Times New Roman,serif\" font-size=\"14.00\"> d</text>\n</g>\n<!-- 11 -->\n<g id=\"node6\" class=\"node\">\n<title>11</title>\n<ellipse fill=\"black\" stroke=\"black\" cx=\"50.8\" cy=\"-444.6\" rx=\"1.8\" ry=\"1.8\"/>\n</g>\n<!-- 10&#45;&gt;11 -->\n<g id=\"edge5\" class=\"edge\">\n<title>10&#45;&gt;11</title>\n<path fill=\"none\" stroke=\"black\" d=\"M91.97,-497.94C89.65,-495.13 82.98,-487 77.55,-480.15 67.18,-467.07 54.88,-450.96 51.62,-446.68\"/>\n<text text-anchor=\"middle\" x=\"83.43\" y=\"-466.85\" font-family=\"Times New Roman,serif\" font-size=\"14.00\"> b</text>\n</g>\n<!-- 29 -->\n<g id=\"node7\" class=\"node\">\n<title>29</title>\n<ellipse fill=\"black\" stroke=\"black\" cx=\"92.8\" cy=\"-444.6\" rx=\"1.8\" ry=\"1.8\"/>\n</g>\n<!-- 10&#45;&gt;29 -->\n<g id=\"edge6\" class=\"edge\">\n<title>10&#45;&gt;29</title>\n<path fill=\"none\" stroke=\"black\" d=\"M92.8,-498.02C92.8,-491.6 92.8,-453.76 92.8,-446.73\"/>\n<text text-anchor=\"middle\" x=\"97.68\" y=\"-466.85\" font-family=\"Times New Roman,serif\" font-size=\"14.00\"> a</text>\n</g>\n<!-- 21 -->\n<g id=\"node28\" class=\"node\">\n<title>21</title>\n<ellipse fill=\"black\" stroke=\"black\" cx=\"142.8\" cy=\"-444.6\" rx=\"1.8\" ry=\"1.8\"/>\n</g>\n<!-- 20&#45;&gt;21 -->\n<g id=\"edge27\" class=\"edge\">\n<title>20&#45;&gt;21</title>\n<path fill=\"none\" stroke=\"black\" d=\"M157.75,-498.07C154.9,-495.6 147.01,-488.25 144.05,-480.15 139.51,-467.75 141.85,-451.15 142.6,-446.72\"/>\n<text text-anchor=\"middle\" x=\"149.68\" y=\"-466.85\" font-family=\"Times New Roman,serif\" font-size=\"14.00\"> a</text>\n</g>\n<!-- 44 -->\n<g id=\"node29\" class=\"node\">\n<title>44</title>\n<ellipse fill=\"black\" stroke=\"black\" cx=\"175.8\" cy=\"-444.6\" rx=\"1.8\" ry=\"1.8\"/>\n</g>\n<!-- 20&#45;&gt;44 -->\n<g id=\"edge28\" class=\"edge\">\n<title>20&#45;&gt;44</title>\n<path fill=\"none\" stroke=\"black\" d=\"M159.1,-498.02C161.14,-491.6 173.2,-453.76 175.44,-446.73\"/>\n<text text-anchor=\"middle\" x=\"175.05\" y=\"-466.85\" font-family=\"Times New Roman,serif\" font-size=\"14.00\"> c</text>\n</g>\n<!-- 47 -->\n<g id=\"node40\" class=\"node\">\n<title>47</title>\n<ellipse fill=\"black\" stroke=\"black\" cx=\"209.8\" cy=\"-444.6\" rx=\"1.8\" ry=\"1.8\"/>\n</g>\n<!-- 46&#45;&gt;47 -->\n<g id=\"edge39\" class=\"edge\">\n<title>46&#45;&gt;47</title>\n<path fill=\"none\" stroke=\"black\" d=\"M198.99,-498.02C200.31,-491.6 208.12,-453.76 209.57,-446.73\"/>\n<text text-anchor=\"middle\" x=\"211.43\" y=\"-466.85\" font-family=\"Times New Roman,serif\" font-size=\"14.00\"> d</text>\n</g>\n<!-- 12 -->\n<g id=\"node8\" class=\"node\">\n<title>12</title>\n<ellipse fill=\"black\" stroke=\"black\" cx=\"17.8\" cy=\"-389.25\" rx=\"1.8\" ry=\"1.8\"/>\n</g>\n<!-- 11&#45;&gt;12 -->\n<g id=\"edge7\" class=\"edge\">\n<title>11&#45;&gt;12</title>\n<path fill=\"none\" stroke=\"black\" d=\"M50.01,-442.61C47.83,-439.87 41.59,-431.88 37.05,-424.8 28.9,-412.08 20.54,-395.71 18.35,-391.35\"/>\n<text text-anchor=\"middle\" x=\"42.68\" y=\"-411.5\" font-family=\"Times New Roman,serif\" font-size=\"14.00\"> a</text>\n</g>\n<!-- 42 -->\n<g id=\"node9\" class=\"node\">\n<title>42</title>\n<ellipse fill=\"black\" stroke=\"black\" cx=\"50.8\" cy=\"-389.25\" rx=\"1.8\" ry=\"1.8\"/>\n</g>\n<!-- 11&#45;&gt;42 -->\n<g id=\"edge8\" class=\"edge\">\n<title>11&#45;&gt;42</title>\n<path fill=\"none\" stroke=\"black\" d=\"M50.8,-442.67C50.8,-436.25 50.8,-398.41 50.8,-391.38\"/>\n<text text-anchor=\"middle\" x=\"56.05\" y=\"-411.5\" font-family=\"Times New Roman,serif\" font-size=\"14.00\"> c</text>\n</g>\n<!-- 30 -->\n<g id=\"node20\" class=\"node\">\n<title>30</title>\n<ellipse fill=\"black\" stroke=\"black\" cx=\"92.8\" cy=\"-389.25\" rx=\"1.8\" ry=\"1.8\"/>\n</g>\n<!-- 29&#45;&gt;30 -->\n<g id=\"edge19\" class=\"edge\">\n<title>29&#45;&gt;30</title>\n<path fill=\"none\" stroke=\"black\" d=\"M92.8,-442.67C92.8,-436.25 92.8,-398.41 92.8,-391.38\"/>\n<text text-anchor=\"middle\" x=\"98.43\" y=\"-411.5\" font-family=\"Times New Roman,serif\" font-size=\"14.00\"> b</text>\n</g>\n<!-- 13 -->\n<g id=\"node10\" class=\"node\">\n<title>13</title>\n<ellipse fill=\"black\" stroke=\"black\" cx=\"17.8\" cy=\"-333.9\" rx=\"1.8\" ry=\"1.8\"/>\n</g>\n<!-- 12&#45;&gt;13 -->\n<g id=\"edge9\" class=\"edge\">\n<title>12&#45;&gt;13</title>\n<path fill=\"none\" stroke=\"black\" d=\"M17.8,-387.32C17.8,-380.9 17.8,-343.06 17.8,-336.03\"/>\n<text text-anchor=\"middle\" x=\"22.68\" y=\"-356.15\" font-family=\"Times New Roman,serif\" font-size=\"14.00\"> a</text>\n</g>\n<!-- 43 -->\n<g id=\"node19\" class=\"node\">\n<title>43</title>\n<ellipse fill=\"black\" stroke=\"black\" cx=\"50.8\" cy=\"-333.9\" rx=\"1.8\" ry=\"1.8\"/>\n</g>\n<!-- 42&#45;&gt;43 -->\n<g id=\"edge18\" class=\"edge\">\n<title>42&#45;&gt;43</title>\n<path fill=\"none\" stroke=\"black\" d=\"M50.8,-387.32C50.8,-380.9 50.8,-343.06 50.8,-336.03\"/>\n<text text-anchor=\"middle\" x=\"56.43\" y=\"-356.15\" font-family=\"Times New Roman,serif\" font-size=\"14.00\"> d</text>\n</g>\n<!-- 14 -->\n<g id=\"node11\" class=\"node\">\n<title>14</title>\n<ellipse fill=\"black\" stroke=\"black\" cx=\"17.8\" cy=\"-278.55\" rx=\"1.8\" ry=\"1.8\"/>\n</g>\n<!-- 13&#45;&gt;14 -->\n<g id=\"edge10\" class=\"edge\">\n<title>13&#45;&gt;14</title>\n<path fill=\"none\" stroke=\"black\" d=\"M17.8,-331.97C17.8,-325.55 17.8,-287.71 17.8,-280.68\"/>\n<text text-anchor=\"middle\" x=\"23.43\" y=\"-300.8\" font-family=\"Times New Roman,serif\" font-size=\"14.00\"> b</text>\n</g>\n<!-- 15 -->\n<g id=\"node12\" class=\"node\">\n<title>15</title>\n<ellipse fill=\"black\" stroke=\"black\" cx=\"1.8\" cy=\"-223.2\" rx=\"1.8\" ry=\"1.8\"/>\n</g>\n<!-- 14&#45;&gt;15 -->\n<g id=\"edge11\" class=\"edge\">\n<title>14&#45;&gt;15</title>\n<path fill=\"none\" stroke=\"black\" d=\"M16.75,-276.67C13.9,-274.2 6.01,-266.85 3.05,-258.75 -1.49,-246.35 0.85,-229.75 1.6,-225.32\"/>\n<text text-anchor=\"middle\" x=\"8.68\" y=\"-245.45\" font-family=\"Times New Roman,serif\" font-size=\"14.00\"> a</text>\n</g>\n<!-- 36 -->\n<g id=\"node13\" class=\"node\">\n<title>36</title>\n<ellipse fill=\"black\" stroke=\"black\" cx=\"34.8\" cy=\"-223.2\" rx=\"1.8\" ry=\"1.8\"/>\n</g>\n<!-- 14&#45;&gt;36 -->\n<g id=\"edge12\" class=\"edge\">\n<title>14&#45;&gt;36</title>\n<path fill=\"none\" stroke=\"black\" d=\"M18.1,-276.62C20.14,-270.2 32.2,-232.36 34.44,-225.33\"/>\n<text text-anchor=\"middle\" x=\"34.05\" y=\"-245.45\" font-family=\"Times New Roman,serif\" font-size=\"14.00\"> c</text>\n</g>\n<!-- 16 -->\n<g id=\"node14\" class=\"node\">\n<title>16</title>\n<ellipse fill=\"black\" stroke=\"black\" cx=\"1.8\" cy=\"-167.85\" rx=\"1.8\" ry=\"1.8\"/>\n</g>\n<!-- 15&#45;&gt;16 -->\n<g id=\"edge13\" class=\"edge\">\n<title>15&#45;&gt;16</title>\n<path fill=\"none\" stroke=\"black\" d=\"M1.8,-221.27C1.8,-214.85 1.8,-177.01 1.8,-169.98\"/>\n<text text-anchor=\"middle\" x=\"6.68\" y=\"-190.1\" font-family=\"Times New Roman,serif\" font-size=\"14.00\"> a</text>\n</g>\n<!-- 37 -->\n<g id=\"node18\" class=\"node\">\n<title>37</title>\n<ellipse fill=\"black\" stroke=\"black\" cx=\"34.8\" cy=\"-167.85\" rx=\"1.8\" ry=\"1.8\"/>\n</g>\n<!-- 36&#45;&gt;37 -->\n<g id=\"edge17\" class=\"edge\">\n<title>36&#45;&gt;37</title>\n<path fill=\"none\" stroke=\"black\" d=\"M34.8,-221.27C34.8,-214.85 34.8,-177.01 34.8,-169.98\"/>\n<text text-anchor=\"middle\" x=\"40.43\" y=\"-190.1\" font-family=\"Times New Roman,serif\" font-size=\"14.00\"> d</text>\n</g>\n<!-- 17 -->\n<g id=\"node15\" class=\"node\">\n<title>17</title>\n<ellipse fill=\"black\" stroke=\"black\" cx=\"1.8\" cy=\"-112.5\" rx=\"1.8\" ry=\"1.8\"/>\n</g>\n<!-- 16&#45;&gt;17 -->\n<g id=\"edge14\" class=\"edge\">\n<title>16&#45;&gt;17</title>\n<path fill=\"none\" stroke=\"black\" d=\"M1.8,-165.92C1.8,-159.5 1.8,-121.66 1.8,-114.63\"/>\n<text text-anchor=\"middle\" x=\"7.43\" y=\"-134.75\" font-family=\"Times New Roman,serif\" font-size=\"14.00\"> b</text>\n</g>\n<!-- 18 -->\n<g id=\"node16\" class=\"node\">\n<title>18</title>\n<ellipse fill=\"black\" stroke=\"black\" cx=\"1.8\" cy=\"-57.15\" rx=\"1.8\" ry=\"1.8\"/>\n</g>\n<!-- 17&#45;&gt;18 -->\n<g id=\"edge15\" class=\"edge\">\n<title>17&#45;&gt;18</title>\n<path fill=\"none\" stroke=\"black\" d=\"M1.8,-110.57C1.8,-104.15 1.8,-66.31 1.8,-59.28\"/>\n<text text-anchor=\"middle\" x=\"7.05\" y=\"-79.4\" font-family=\"Times New Roman,serif\" font-size=\"14.00\"> c</text>\n</g>\n<!-- 19 -->\n<g id=\"node17\" class=\"node\">\n<title>19</title>\n<ellipse fill=\"black\" stroke=\"black\" cx=\"1.8\" cy=\"-1.8\" rx=\"1.8\" ry=\"1.8\"/>\n</g>\n<!-- 18&#45;&gt;19 -->\n<g id=\"edge16\" class=\"edge\">\n<title>18&#45;&gt;19</title>\n<path fill=\"none\" stroke=\"black\" d=\"M1.8,-55.22C1.8,-48.8 1.8,-10.96 1.8,-3.93\"/>\n<text text-anchor=\"middle\" x=\"7.43\" y=\"-24.05\" font-family=\"Times New Roman,serif\" font-size=\"14.00\"> d</text>\n</g>\n<!-- 31 -->\n<g id=\"node21\" class=\"node\">\n<title>31</title>\n<ellipse fill=\"black\" stroke=\"black\" cx=\"84.8\" cy=\"-333.9\" rx=\"1.8\" ry=\"1.8\"/>\n</g>\n<!-- 30&#45;&gt;31 -->\n<g id=\"edge20\" class=\"edge\">\n<title>30&#45;&gt;31</title>\n<path fill=\"none\" stroke=\"black\" d=\"M92.32,-387.26C91.02,-384.52 87.42,-376.53 86.05,-369.45 83.55,-356.48 84.42,-340.29 84.72,-335.99\"/>\n<text text-anchor=\"middle\" x=\"91.68\" y=\"-356.15\" font-family=\"Times New Roman,serif\" font-size=\"14.00\"> a</text>\n</g>\n<!-- 40 -->\n<g id=\"node22\" class=\"node\">\n<title>40</title>\n<ellipse fill=\"black\" stroke=\"black\" cx=\"117.8\" cy=\"-333.9\" rx=\"1.8\" ry=\"1.8\"/>\n</g>\n<!-- 30&#45;&gt;40 -->\n<g id=\"edge21\" class=\"edge\">\n<title>30&#45;&gt;40</title>\n<path fill=\"none\" stroke=\"black\" d=\"M93.23,-387.32C96.24,-380.9 113.97,-343.06 117.27,-336.03\"/>\n<text text-anchor=\"middle\" x=\"114.05\" y=\"-356.15\" font-family=\"Times New Roman,serif\" font-size=\"14.00\"> c</text>\n</g>\n<!-- 32 -->\n<g id=\"node23\" class=\"node\">\n<title>32</title>\n<ellipse fill=\"black\" stroke=\"black\" cx=\"84.8\" cy=\"-278.55\" rx=\"1.8\" ry=\"1.8\"/>\n</g>\n<!-- 31&#45;&gt;32 -->\n<g id=\"edge22\" class=\"edge\">\n<title>31&#45;&gt;32</title>\n<path fill=\"none\" stroke=\"black\" d=\"M84.8,-331.97C84.8,-325.55 84.8,-287.71 84.8,-280.68\"/>\n<text text-anchor=\"middle\" x=\"89.68\" y=\"-300.8\" font-family=\"Times New Roman,serif\" font-size=\"14.00\"> a</text>\n</g>\n<!-- 41 -->\n<g id=\"node27\" class=\"node\">\n<title>41</title>\n<ellipse fill=\"black\" stroke=\"black\" cx=\"117.8\" cy=\"-278.55\" rx=\"1.8\" ry=\"1.8\"/>\n</g>\n<!-- 40&#45;&gt;41 -->\n<g id=\"edge26\" class=\"edge\">\n<title>40&#45;&gt;41</title>\n<path fill=\"none\" stroke=\"black\" d=\"M117.8,-331.97C117.8,-325.55 117.8,-287.71 117.8,-280.68\"/>\n<text text-anchor=\"middle\" x=\"123.43\" y=\"-300.8\" font-family=\"Times New Roman,serif\" font-size=\"14.00\"> d</text>\n</g>\n<!-- 33 -->\n<g id=\"node24\" class=\"node\">\n<title>33</title>\n<ellipse fill=\"black\" stroke=\"black\" cx=\"84.8\" cy=\"-223.2\" rx=\"1.8\" ry=\"1.8\"/>\n</g>\n<!-- 32&#45;&gt;33 -->\n<g id=\"edge23\" class=\"edge\">\n<title>32&#45;&gt;33</title>\n<path fill=\"none\" stroke=\"black\" d=\"M84.8,-276.62C84.8,-270.2 84.8,-232.36 84.8,-225.33\"/>\n<text text-anchor=\"middle\" x=\"90.43\" y=\"-245.45\" font-family=\"Times New Roman,serif\" font-size=\"14.00\"> b</text>\n</g>\n<!-- 34 -->\n<g id=\"node25\" class=\"node\">\n<title>34</title>\n<ellipse fill=\"black\" stroke=\"black\" cx=\"84.8\" cy=\"-167.85\" rx=\"1.8\" ry=\"1.8\"/>\n</g>\n<!-- 33&#45;&gt;34 -->\n<g id=\"edge24\" class=\"edge\">\n<title>33&#45;&gt;34</title>\n<path fill=\"none\" stroke=\"black\" d=\"M84.8,-221.27C84.8,-214.85 84.8,-177.01 84.8,-169.98\"/>\n<text text-anchor=\"middle\" x=\"90.05\" y=\"-190.1\" font-family=\"Times New Roman,serif\" font-size=\"14.00\"> c</text>\n</g>\n<!-- 35 -->\n<g id=\"node26\" class=\"node\">\n<title>35</title>\n<ellipse fill=\"black\" stroke=\"black\" cx=\"84.8\" cy=\"-112.5\" rx=\"1.8\" ry=\"1.8\"/>\n</g>\n<!-- 34&#45;&gt;35 -->\n<g id=\"edge25\" class=\"edge\">\n<title>34&#45;&gt;35</title>\n<path fill=\"none\" stroke=\"black\" d=\"M84.8,-165.92C84.8,-159.5 84.8,-121.66 84.8,-114.63\"/>\n<text text-anchor=\"middle\" x=\"90.43\" y=\"-134.75\" font-family=\"Times New Roman,serif\" font-size=\"14.00\"> d</text>\n</g>\n<!-- 22 -->\n<g id=\"node30\" class=\"node\">\n<title>22</title>\n<ellipse fill=\"black\" stroke=\"black\" cx=\"146.8\" cy=\"-389.25\" rx=\"1.8\" ry=\"1.8\"/>\n</g>\n<!-- 21&#45;&gt;22 -->\n<g id=\"edge29\" class=\"edge\">\n<title>21&#45;&gt;22</title>\n<path fill=\"none\" stroke=\"black\" d=\"M142.87,-442.67C143.35,-436.25 146.19,-398.41 146.72,-391.38\"/>\n<text text-anchor=\"middle\" x=\"150.68\" y=\"-411.5\" font-family=\"Times New Roman,serif\" font-size=\"14.00\"> a</text>\n</g>\n<!-- 45 -->\n<g id=\"node39\" class=\"node\">\n<title>45</title>\n<ellipse fill=\"black\" stroke=\"black\" cx=\"175.8\" cy=\"-389.25\" rx=\"1.8\" ry=\"1.8\"/>\n</g>\n<!-- 44&#45;&gt;45 -->\n<g id=\"edge38\" class=\"edge\">\n<title>44&#45;&gt;45</title>\n<path fill=\"none\" stroke=\"black\" d=\"M175.8,-442.67C175.8,-436.25 175.8,-398.41 175.8,-391.38\"/>\n<text text-anchor=\"middle\" x=\"181.43\" y=\"-411.5\" font-family=\"Times New Roman,serif\" font-size=\"14.00\"> d</text>\n</g>\n<!-- 23 -->\n<g id=\"node31\" class=\"node\">\n<title>23</title>\n<ellipse fill=\"black\" stroke=\"black\" cx=\"151.8\" cy=\"-333.9\" rx=\"1.8\" ry=\"1.8\"/>\n</g>\n<!-- 22&#45;&gt;23 -->\n<g id=\"edge30\" class=\"edge\">\n<title>22&#45;&gt;23</title>\n<path fill=\"none\" stroke=\"black\" d=\"M146.89,-387.32C147.49,-380.9 151.03,-343.06 151.69,-336.03\"/>\n<text text-anchor=\"middle\" x=\"156.43\" y=\"-356.15\" font-family=\"Times New Roman,serif\" font-size=\"14.00\"> b</text>\n</g>\n<!-- 24 -->\n<g id=\"node32\" class=\"node\">\n<title>24</title>\n<ellipse fill=\"black\" stroke=\"black\" cx=\"151.8\" cy=\"-278.55\" rx=\"1.8\" ry=\"1.8\"/>\n</g>\n<!-- 23&#45;&gt;24 -->\n<g id=\"edge31\" class=\"edge\">\n<title>23&#45;&gt;24</title>\n<path fill=\"none\" stroke=\"black\" d=\"M151.8,-331.97C151.8,-325.55 151.8,-287.71 151.8,-280.68\"/>\n<text text-anchor=\"middle\" x=\"156.68\" y=\"-300.8\" font-family=\"Times New Roman,serif\" font-size=\"14.00\"> a</text>\n</g>\n<!-- 38 -->\n<g id=\"node33\" class=\"node\">\n<title>38</title>\n<ellipse fill=\"black\" stroke=\"black\" cx=\"184.8\" cy=\"-278.55\" rx=\"1.8\" ry=\"1.8\"/>\n</g>\n<!-- 23&#45;&gt;38 -->\n<g id=\"edge32\" class=\"edge\">\n<title>23&#45;&gt;38</title>\n<path fill=\"none\" stroke=\"black\" d=\"M152.37,-331.97C156.34,-325.55 179.75,-287.71 184.1,-280.68\"/>\n<text text-anchor=\"middle\" x=\"178.05\" y=\"-300.8\" font-family=\"Times New Roman,serif\" font-size=\"14.00\"> c</text>\n</g>\n<!-- 25 -->\n<g id=\"node34\" class=\"node\">\n<title>25</title>\n<ellipse fill=\"black\" stroke=\"black\" cx=\"151.8\" cy=\"-223.2\" rx=\"1.8\" ry=\"1.8\"/>\n</g>\n<!-- 24&#45;&gt;25 -->\n<g id=\"edge33\" class=\"edge\">\n<title>24&#45;&gt;25</title>\n<path fill=\"none\" stroke=\"black\" d=\"M151.8,-276.62C151.8,-270.2 151.8,-232.36 151.8,-225.33\"/>\n<text text-anchor=\"middle\" x=\"156.68\" y=\"-245.45\" font-family=\"Times New Roman,serif\" font-size=\"14.00\"> a</text>\n</g>\n<!-- 39 -->\n<g id=\"node38\" class=\"node\">\n<title>39</title>\n<ellipse fill=\"black\" stroke=\"black\" cx=\"184.8\" cy=\"-223.2\" rx=\"1.8\" ry=\"1.8\"/>\n</g>\n<!-- 38&#45;&gt;39 -->\n<g id=\"edge37\" class=\"edge\">\n<title>38&#45;&gt;39</title>\n<path fill=\"none\" stroke=\"black\" d=\"M184.8,-276.62C184.8,-270.2 184.8,-232.36 184.8,-225.33\"/>\n<text text-anchor=\"middle\" x=\"190.43\" y=\"-245.45\" font-family=\"Times New Roman,serif\" font-size=\"14.00\"> d</text>\n</g>\n<!-- 26 -->\n<g id=\"node35\" class=\"node\">\n<title>26</title>\n<ellipse fill=\"black\" stroke=\"black\" cx=\"151.8\" cy=\"-167.85\" rx=\"1.8\" ry=\"1.8\"/>\n</g>\n<!-- 25&#45;&gt;26 -->\n<g id=\"edge34\" class=\"edge\">\n<title>25&#45;&gt;26</title>\n<path fill=\"none\" stroke=\"black\" d=\"M151.8,-221.27C151.8,-214.85 151.8,-177.01 151.8,-169.98\"/>\n<text text-anchor=\"middle\" x=\"157.43\" y=\"-190.1\" font-family=\"Times New Roman,serif\" font-size=\"14.00\"> b</text>\n</g>\n<!-- 27 -->\n<g id=\"node36\" class=\"node\">\n<title>27</title>\n<ellipse fill=\"black\" stroke=\"black\" cx=\"151.8\" cy=\"-112.5\" rx=\"1.8\" ry=\"1.8\"/>\n</g>\n<!-- 26&#45;&gt;27 -->\n<g id=\"edge35\" class=\"edge\">\n<title>26&#45;&gt;27</title>\n<path fill=\"none\" stroke=\"black\" d=\"M151.8,-165.92C151.8,-159.5 151.8,-121.66 151.8,-114.63\"/>\n<text text-anchor=\"middle\" x=\"157.05\" y=\"-134.75\" font-family=\"Times New Roman,serif\" font-size=\"14.00\"> c</text>\n</g>\n<!-- 28 -->\n<g id=\"node37\" class=\"node\">\n<title>28</title>\n<ellipse fill=\"black\" stroke=\"black\" cx=\"151.8\" cy=\"-57.15\" rx=\"1.8\" ry=\"1.8\"/>\n</g>\n<!-- 27&#45;&gt;28 -->\n<g id=\"edge36\" class=\"edge\">\n<title>27&#45;&gt;28</title>\n<path fill=\"none\" stroke=\"black\" d=\"M151.8,-110.57C151.8,-104.15 151.8,-66.31 151.8,-59.28\"/>\n<text text-anchor=\"middle\" x=\"157.43\" y=\"-79.4\" font-family=\"Times New Roman,serif\" font-size=\"14.00\"> d</text>\n</g>\n</g>\n</svg>\n",
      "text/plain": "<graphviz.sources.Source at 0x26d49de5420>"
     },
     "metadata": {},
     "output_type": "display_data"
    }
   ],
   "source": [
    "text1 = \"abaabaabcd\"\n",
    "trie1 = Trie(text1)\n",
    "trie1.show_trie()"
   ]
  },
  {
   "cell_type": "code",
   "execution_count": 6,
   "id": "94390ae1",
   "metadata": {},
   "outputs": [
    {
     "data": {
      "text/plain": [
       "[0, 3]"
      ]
     },
     "execution_count": 6,
     "metadata": {},
     "output_type": "execute_result"
    }
   ],
   "source": [
    "trie1.find_string(\"abaab\")"
   ]
  },
  {
   "cell_type": "code",
   "execution_count": null,
   "id": "808d2a04",
   "metadata": {},
   "outputs": [],
   "source": []
  }
 ],
 "metadata": {
  "kernelspec": {
   "display_name": "Python 3 (ipykernel)",
   "language": "python",
   "name": "python3"
  },
  "language_info": {
   "codemirror_mode": {
    "name": "ipython",
    "version": 3
   },
   "file_extension": ".py",
   "mimetype": "text/x-python",
   "name": "python",
   "nbconvert_exporter": "python",
   "pygments_lexer": "ipython3",
   "version": "3.10.4"
  }
 },
 "nbformat": 4,
 "nbformat_minor": 5
}
