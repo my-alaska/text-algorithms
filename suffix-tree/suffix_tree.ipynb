{
 "cells": [
  {
   "cell_type": "markdown",
   "id": "e1759bae",
   "metadata": {},
   "source": [
    "# suffix tree"
   ]
  },
  {
   "cell_type": "code",
   "id": "1e5292ae",
   "metadata": {
    "ExecuteTime": {
     "end_time": "2025-04-03T16:23:07.993438Z",
     "start_time": "2025-04-03T16:23:07.990200Z"
    }
   },
   "source": [
    "from graphviz import Source"
   ],
   "outputs": [],
   "execution_count": 276
  },
  {
   "cell_type": "code",
   "id": "4f9d8b4c",
   "metadata": {
    "ExecuteTime": {
     "end_time": "2025-04-03T16:23:08.038722Z",
     "start_time": "2025-04-03T16:23:08.031613Z"
    }
   },
   "source": [
    "# each bracketed slice mark represents a part of a text like array indexing\n",
    "# [a/b] represents a part of text that starts at character of index a(inclusively) and ends at b(exclusively)\n",
    "\n",
    "\n",
    "class SuffixNode:\n",
    "    counter = 0\n",
    "\n",
    "    def __init__(self, text, start=0, end=0, depth=0, parent=None):\n",
    "        # reference to the text(for accesing it with indexing)\n",
    "        self.text = text\n",
    "\n",
    "        # starting and ending index of text represented by the edge between parent and node\n",
    "        self.start = start\n",
    "        self.end = end\n",
    "\n",
    "        # self explainatory\n",
    "        self.parent = parent\n",
    "        self.depth = depth\n",
    "        self.children = {}\n",
    "\n",
    "        # for finding a stubstring in text\n",
    "        self.leaf_index = None\n",
    "\n",
    "        # for visualisation\n",
    "        self.id = SuffixNode.counter\n",
    "        SuffixNode.counter += 1\n",
    "\n",
    "    # adding a piece of a text to a node - creating a new edge in a tree\n",
    "    # new start - index of the first letter of newly grafted suffix\n",
    "    def graft(self, new_start):\n",
    "\n",
    "        # initially we set each ending of a grafted branch as the end of the text. It's always a suffix so we can do that\n",
    "        new_end = len(self.text)\n",
    "\n",
    "        # we calculate new depth of the child\n",
    "        new_depth = self.depth + (new_end - new_start)\n",
    "\n",
    "        # we create the new child\n",
    "        child = SuffixNode(self.text, new_start, new_end, new_depth, self)\n",
    "        self.children[self.text[new_start]] = child\n",
    "\n",
    "        # note that the newly created child is a leaf node\n",
    "        return child\n",
    "\n",
    "    # break-path function breaks an edge of the tree and creates a new node at the breaking point\n",
    "    # we insert a new node between the current node and one of its children\n",
    "    def break_path(self, string):\n",
    "        length = len(string)\n",
    "        child = self.children[string[0]]\n",
    "\n",
    "        # we create the new node(note that the information about an edge is stored in the child)\n",
    "        new_node = SuffixNode(\n",
    "            self.text, child.start, child.start + length, self.depth + length, self\n",
    "        )\n",
    "        child.start = child.start + length\n",
    "        child.parent = new_node\n",
    "        new_node.children[self.text[child.start]] = child\n",
    "        self.children.pop(string[0])\n",
    "        self.children[string[0]] = new_node\n",
    "\n",
    "        # we have to return the node for further grafting operation\n",
    "        return new_node\n",
    "\n",
    "    # slow-find function's purpose is to find or create a new node,\n",
    "    # that will start a new branch in a tree, for a given string\n",
    "    def slow_find(self, string):\n",
    "\n",
    "        # it's a recursive function so it needs a stop condition\n",
    "        # we stop if the string ends or if the node doesn't have the proper child\n",
    "        if len(string) == 0 or string[0] not in self.children.keys():\n",
    "            return self\n",
    "\n",
    "        # we get the next node from our path. We'll either travel through the whole length of the string...\n",
    "        child = self.children[string[0]]\n",
    "        for i in range(1, child.end - child.start):\n",
    "            # ... or stop at the point where we find a mismatch\n",
    "            if self.text[child.start + i] != string[i]:\n",
    "                # in this case we'll have to break the path(create a new node between the processed parent and child)\n",
    "                # it will be the returned node\n",
    "                return self.break_path(string[:i])\n",
    "\n",
    "        # if we manage to reach the end of slow-find's for loop we have to continue the recursion\n",
    "        return child.slow_find(string[child.end - child.start :])\n",
    "\n",
    "    # functions for visualisation\n",
    "    def dot_node(self):\n",
    "        return f'{self.id} [label=\"\", shape=\"point\"];'\n",
    "\n",
    "    def dot_edges(self):\n",
    "        result = []\n",
    "        for child in self.children.values():\n",
    "            if child.start + 1 == child.end:\n",
    "                newLabel = child.text[child.start]\n",
    "            else:\n",
    "                newLabel = f\"[{child.start}/{child.end}]\"\n",
    "            result.append(\n",
    "                f'{self.id} -> {child.id}[arrowhead=\"none\", label=\" {newLabel}\"];'\n",
    "            )\n",
    "        return \"\\n\".join(result)\n",
    "\n",
    "    def get_all_children(self):\n",
    "        result = [self]\n",
    "        for child in self.children.values():\n",
    "            result += child.get_all_children()\n",
    "        return result\n",
    "\n",
    "    def show_tree(self):\n",
    "        nodes = self.get_all_children()\n",
    "        SuffixNode.show_graph(nodes)\n",
    "\n",
    "    @staticmethod\n",
    "    def show_graph(nodes):\n",
    "        result = \"digraph{\\n\"\n",
    "        ranks = {}\n",
    "        for node in nodes:\n",
    "            result += node.dot_node() + \"\\n\"\n",
    "            result += node.dot_edges() + \"\\n\"\n",
    "            if node.depth not in ranks:\n",
    "                ranks[node.depth] = []\n",
    "            ranks[node.depth].append(node.id)\n",
    "        for key, values in ranks.items():\n",
    "            values = \" \".join([f\"{v};\" for v in values])\n",
    "            result += \" { rank=same; \" + values + \"}\\n\"\n",
    "        result += \"\\n}\"\n",
    "        s = Source(result)\n",
    "        display(s)"
   ],
   "outputs": [],
   "execution_count": 277
  },
  {
   "cell_type": "code",
   "id": "e99c7135",
   "metadata": {
    "ExecuteTime": {
     "end_time": "2025-04-03T16:23:08.045869Z",
     "start_time": "2025-04-03T16:23:08.041730Z"
    }
   },
   "source": [
    "class SuffixTree:\n",
    "    def __init__(self, text):\n",
    "\n",
    "        # we initialize the root node\n",
    "        self.root = SuffixNode(text)\n",
    "        leaf = self.root.graft(0)\n",
    "        leaf.leaf_index = 0\n",
    "\n",
    "        # and for each suffix in the text\n",
    "        for i in range(1, len(text)):\n",
    "\n",
    "            # we find and/or break the edge at which the path defined by the suffix ends in the existing tree\n",
    "            head = self.root.slow_find(text[i:])\n",
    "\n",
    "            # then we add a new node there\n",
    "            leaf = head.graft(i + head.depth)\n",
    "\n",
    "            # and we index the leaf to allow us to look up strigns easily\n",
    "            leaf.leaf_index = i\n",
    "\n",
    "    # this function, for certain pattern, returns indexes at which that pattern starts\n",
    "    def find_string(self, pattern):\n",
    "        result = []\n",
    "\n",
    "        # the depth-first search recursive function that finds every leaf in a subtree and adds it to the resulting set\n",
    "        def dfs(node):\n",
    "            for child in node.children.values():\n",
    "                dfs(child)\n",
    "\n",
    "            if not node.children:\n",
    "                result.append(node.leaf_index)\n",
    "\n",
    "        # we'll descend the tree following the letters in the pattern\n",
    "        node = self.root\n",
    "        curr_start_idx = 0\n",
    "\n",
    "        while True:\n",
    "            # we end our loop if there's no matching letter in the children nodes\n",
    "            if pattern[curr_start_idx] not in node.children.keys():\n",
    "                return result\n",
    "\n",
    "            child = node.children[pattern[curr_start_idx]]\n",
    "\n",
    "            # we can only go to the child if our pattern is longer than the edge length\n",
    "            if len(pattern[curr_start_idx:]) > child.end - child.start:\n",
    "\n",
    "                # if the next part of the pattern doesn't match the text represented by the edge,\n",
    "                # we won't find any more matches\n",
    "                if (\n",
    "                    pattern[curr_start_idx : curr_start_idx + child.end - child.start]\n",
    "                    != child.text[child.start : child.end]\n",
    "                ):\n",
    "                    return result\n",
    "\n",
    "                # go to the next child\n",
    "                curr_start_idx += child.end - child.start\n",
    "                node = child\n",
    "                continue\n",
    "\n",
    "            # If the remaining pattern matches the text we can add all corresponding .\n",
    "            if (\n",
    "                pattern[curr_start_idx:]\n",
    "                == child.text[child.start : child.start + len(pattern) - curr_start_idx]\n",
    "            ):\n",
    "                dfs(child)\n",
    "                return result\n",
    "\n",
    "        return result\n",
    "\n",
    "    # visualisation\n",
    "    def show_stree(self):\n",
    "        self.root.show_tree()"
   ],
   "outputs": [],
   "execution_count": 278
  },
  {
   "cell_type": "code",
   "id": "0f090d71",
   "metadata": {
    "ExecuteTime": {
     "end_time": "2025-04-03T16:23:08.074163Z",
     "start_time": "2025-04-03T16:23:08.052395Z"
    }
   },
   "source": [
    "text0 = \"bbb$\"\n",
    "tree0 = SuffixTree(text0)\n",
    "tree0.show_stree()"
   ],
   "outputs": [
    {
     "data": {
      "image/svg+xml": "<?xml version=\"1.0\" encoding=\"UTF-8\" standalone=\"no\"?>\n<!DOCTYPE svg PUBLIC \"-//W3C//DTD SVG 1.1//EN\"\n \"http://www.w3.org/Graphics/SVG/1.1/DTD/svg11.dtd\">\n<!-- Generated by graphviz version 9.0.0 (20230911.1827)\n -->\n<!-- Pages: 1 -->\n<svg width=\"92pt\" height=\"178pt\"\n viewBox=\"0.00 0.00 92.14 177.65\" xmlns=\"http://www.w3.org/2000/svg\" xmlns:xlink=\"http://www.w3.org/1999/xlink\">\n<g id=\"graph0\" class=\"graph\" transform=\"scale(1 1) rotate(0) translate(4 173.65)\">\n<polygon fill=\"white\" stroke=\"none\" points=\"-4,4 -4,-173.65 88.14,-173.65 88.14,4 -4,4\"/>\n<!-- 0 -->\n<g id=\"node1\" class=\"node\">\n<title>0</title>\n<ellipse fill=\"black\" stroke=\"black\" cx=\"62.64\" cy=\"-167.85\" rx=\"1.8\" ry=\"1.8\"/>\n</g>\n<!-- 4 -->\n<g id=\"node2\" class=\"node\">\n<title>4</title>\n<ellipse fill=\"black\" stroke=\"black\" cx=\"45.64\" cy=\"-112.5\" rx=\"1.8\" ry=\"1.8\"/>\n</g>\n<!-- 0&#45;&gt;4 -->\n<g id=\"edge1\" class=\"edge\">\n<title>0&#45;&gt;4</title>\n<path fill=\"none\" stroke=\"black\" d=\"M61.48,-166C58.33,-163.6 49.62,-156.43 46.39,-148.05 41.66,-135.73 44.51,-119.07 45.4,-114.63\"/>\n<text text-anchor=\"middle\" x=\"52.27\" y=\"-134.75\" font-family=\"Times New Roman,serif\" font-size=\"14.00\"> b</text>\n</g>\n<!-- 6 -->\n<g id=\"node3\" class=\"node\">\n<title>6</title>\n<ellipse fill=\"black\" stroke=\"black\" cx=\"79.64\" cy=\"-112.5\" rx=\"1.8\" ry=\"1.8\"/>\n</g>\n<!-- 0&#45;&gt;6 -->\n<g id=\"edge2\" class=\"edge\">\n<title>0&#45;&gt;6</title>\n<path fill=\"none\" stroke=\"black\" d=\"M62.94,-165.92C64.99,-159.5 77.04,-121.66 79.29,-114.63\"/>\n<text text-anchor=\"middle\" x=\"78.89\" y=\"-134.75\" font-family=\"Times New Roman,serif\" font-size=\"14.00\"> $</text>\n</g>\n<!-- 2 -->\n<g id=\"node4\" class=\"node\">\n<title>2</title>\n<ellipse fill=\"black\" stroke=\"black\" cx=\"28.64\" cy=\"-57.15\" rx=\"1.8\" ry=\"1.8\"/>\n</g>\n<!-- 4&#45;&gt;2 -->\n<g id=\"edge3\" class=\"edge\">\n<title>4&#45;&gt;2</title>\n<path fill=\"none\" stroke=\"black\" d=\"M44.48,-110.65C41.33,-108.25 32.62,-101.08 29.39,-92.7 24.66,-80.38 27.51,-63.72 28.4,-59.28\"/>\n<text text-anchor=\"middle\" x=\"35.27\" y=\"-79.4\" font-family=\"Times New Roman,serif\" font-size=\"14.00\"> b</text>\n</g>\n<!-- 5 -->\n<g id=\"node5\" class=\"node\">\n<title>5</title>\n<ellipse fill=\"black\" stroke=\"black\" cx=\"62.64\" cy=\"-57.15\" rx=\"1.8\" ry=\"1.8\"/>\n</g>\n<!-- 4&#45;&gt;5 -->\n<g id=\"edge4\" class=\"edge\">\n<title>4&#45;&gt;5</title>\n<path fill=\"none\" stroke=\"black\" d=\"M45.94,-110.57C47.99,-104.15 60.04,-66.31 62.29,-59.28\"/>\n<text text-anchor=\"middle\" x=\"61.89\" y=\"-79.4\" font-family=\"Times New Roman,serif\" font-size=\"14.00\"> $</text>\n</g>\n<!-- 1 -->\n<g id=\"node6\" class=\"node\">\n<title>1</title>\n<ellipse fill=\"black\" stroke=\"black\" cx=\"2.64\" cy=\"-1.8\" rx=\"1.8\" ry=\"1.8\"/>\n</g>\n<!-- 2&#45;&gt;1 -->\n<g id=\"edge5\" class=\"edge\">\n<title>2&#45;&gt;1</title>\n<path fill=\"none\" stroke=\"black\" d=\"M27.15,-55.58C22.61,-53.76 8.94,-47.58 3.64,-37.35 -2.42,-25.62 1.2,-8.54 2.34,-3.96\"/>\n<text text-anchor=\"middle\" x=\"18.64\" y=\"-24.05\" font-family=\"Times New Roman,serif\" font-size=\"14.00\"> [2/4]</text>\n</g>\n<!-- 3 -->\n<g id=\"node7\" class=\"node\">\n<title>3</title>\n<ellipse fill=\"black\" stroke=\"black\" cx=\"55.64\" cy=\"-1.8\" rx=\"1.8\" ry=\"1.8\"/>\n</g>\n<!-- 2&#45;&gt;3 -->\n<g id=\"edge6\" class=\"edge\">\n<title>2&#45;&gt;3</title>\n<path fill=\"none\" stroke=\"black\" d=\"M29.11,-55.22C32.36,-48.8 51.51,-10.96 55.07,-3.93\"/>\n<text text-anchor=\"middle\" x=\"50.89\" y=\"-24.05\" font-family=\"Times New Roman,serif\" font-size=\"14.00\"> $</text>\n</g>\n</g>\n</svg>\n",
      "text/plain": [
       "<graphviz.sources.Source at 0x1ee8985d450>"
      ]
     },
     "metadata": {},
     "output_type": "display_data"
    }
   ],
   "execution_count": 279
  },
  {
   "cell_type": "code",
   "id": "937bef32",
   "metadata": {
    "ExecuteTime": {
     "end_time": "2025-04-03T16:23:08.107313Z",
     "start_time": "2025-04-03T16:23:08.085905Z"
    }
   },
   "source": [
    "text1 = \"ababcd\"\n",
    "tree1 = SuffixTree(text1)\n",
    "tree1.show_stree()"
   ],
   "outputs": [
    {
     "data": {
      "image/svg+xml": "<?xml version=\"1.0\" encoding=\"UTF-8\" standalone=\"no\"?>\n<!DOCTYPE svg PUBLIC \"-//W3C//DTD SVG 1.1//EN\"\n \"http://www.w3.org/Graphics/SVG/1.1/DTD/svg11.dtd\">\n<!-- Generated by graphviz version 9.0.0 (20230911.1827)\n -->\n<!-- Pages: 1 -->\n<svg width=\"205pt\" height=\"122pt\"\n viewBox=\"0.00 0.00 204.60 122.30\" xmlns=\"http://www.w3.org/2000/svg\" xmlns:xlink=\"http://www.w3.org/1999/xlink\">\n<g id=\"graph0\" class=\"graph\" transform=\"scale(1 1) rotate(0) translate(4 118.3)\">\n<polygon fill=\"white\" stroke=\"none\" points=\"-4,4 -4,-118.3 200.6,-118.3 200.6,4 -4,4\"/>\n<!-- 7 -->\n<g id=\"node1\" class=\"node\">\n<title>7</title>\n<ellipse fill=\"black\" stroke=\"black\" cx=\"124.8\" cy=\"-112.5\" rx=\"1.8\" ry=\"1.8\"/>\n</g>\n<!-- 10 -->\n<g id=\"node2\" class=\"node\">\n<title>10</title>\n<ellipse fill=\"black\" stroke=\"black\" cx=\"54.8\" cy=\"-57.15\" rx=\"1.8\" ry=\"1.8\"/>\n</g>\n<!-- 7&#45;&gt;10 -->\n<g id=\"edge1\" class=\"edge\">\n<title>7&#45;&gt;10</title>\n<path fill=\"none\" stroke=\"black\" d=\"M122.95,-111.31C115.67,-110.5 88.7,-106.61 72.8,-92.7 61.6,-82.9 56.36,-64.43 55.1,-59.43\"/>\n<text text-anchor=\"middle\" x=\"87.8\" y=\"-79.4\" font-family=\"Times New Roman,serif\" font-size=\"14.00\"> [0/2]</text>\n</g>\n<!-- 12 -->\n<g id=\"node3\" class=\"node\">\n<title>12</title>\n<ellipse fill=\"black\" stroke=\"black\" cx=\"107.8\" cy=\"-57.15\" rx=\"1.8\" ry=\"1.8\"/>\n</g>\n<!-- 7&#45;&gt;12 -->\n<g id=\"edge2\" class=\"edge\">\n<title>7&#45;&gt;12</title>\n<path fill=\"none\" stroke=\"black\" d=\"M123.64,-110.65C120.49,-108.25 111.77,-101.08 108.55,-92.7 103.81,-80.38 106.66,-63.72 107.56,-59.28\"/>\n<text text-anchor=\"middle\" x=\"114.43\" y=\"-79.4\" font-family=\"Times New Roman,serif\" font-size=\"14.00\"> b</text>\n</g>\n<!-- 14 -->\n<g id=\"node4\" class=\"node\">\n<title>14</title>\n<ellipse fill=\"black\" stroke=\"black\" cx=\"141.8\" cy=\"-57.15\" rx=\"1.8\" ry=\"1.8\"/>\n</g>\n<!-- 7&#45;&gt;14 -->\n<g id=\"edge3\" class=\"edge\">\n<title>7&#45;&gt;14</title>\n<path fill=\"none\" stroke=\"black\" d=\"M125.1,-110.57C127.14,-104.15 139.2,-66.31 141.44,-59.28\"/>\n<text text-anchor=\"middle\" x=\"150.8\" y=\"-79.4\" font-family=\"Times New Roman,serif\" font-size=\"14.00\"> [4/6]</text>\n</g>\n<!-- 15 -->\n<g id=\"node5\" class=\"node\">\n<title>15</title>\n<ellipse fill=\"black\" stroke=\"black\" cx=\"194.8\" cy=\"-57.15\" rx=\"1.8\" ry=\"1.8\"/>\n</g>\n<!-- 7&#45;&gt;15 -->\n<g id=\"edge4\" class=\"edge\">\n<title>7&#45;&gt;15</title>\n<path fill=\"none\" stroke=\"black\" d=\"M126.35,-111.18C132.46,-109.84 155.2,-104.27 169.8,-92.7 182.8,-82.4 192.19,-63.67 194.34,-59.15\"/>\n<text text-anchor=\"middle\" x=\"188.43\" y=\"-79.4\" font-family=\"Times New Roman,serif\" font-size=\"14.00\"> d</text>\n</g>\n<!-- 8 -->\n<g id=\"node6\" class=\"node\">\n<title>8</title>\n<ellipse fill=\"black\" stroke=\"black\" cx=\"1.8\" cy=\"-1.8\" rx=\"1.8\" ry=\"1.8\"/>\n</g>\n<!-- 10&#45;&gt;8 -->\n<g id=\"edge5\" class=\"edge\">\n<title>10&#45;&gt;8</title>\n<path fill=\"none\" stroke=\"black\" d=\"M53.32,-55.67C48.22,-53.96 31.09,-47.66 20.8,-37.35 10.16,-26.69 3.78,-8.84 2.19,-4.03\"/>\n<text text-anchor=\"middle\" x=\"35.8\" y=\"-24.05\" font-family=\"Times New Roman,serif\" font-size=\"14.00\"> [2/6]</text>\n</g>\n<!-- 11 -->\n<g id=\"node7\" class=\"node\">\n<title>11</title>\n<ellipse fill=\"black\" stroke=\"black\" cx=\"54.8\" cy=\"-1.8\" rx=\"1.8\" ry=\"1.8\"/>\n</g>\n<!-- 10&#45;&gt;11 -->\n<g id=\"edge6\" class=\"edge\">\n<title>10&#45;&gt;11</title>\n<path fill=\"none\" stroke=\"black\" d=\"M54.8,-55.22C54.8,-48.8 54.8,-10.96 54.8,-3.93\"/>\n<text text-anchor=\"middle\" x=\"69.8\" y=\"-24.05\" font-family=\"Times New Roman,serif\" font-size=\"14.00\"> [4/6]</text>\n</g>\n<!-- 9 -->\n<g id=\"node8\" class=\"node\">\n<title>9</title>\n<ellipse fill=\"black\" stroke=\"black\" cx=\"107.8\" cy=\"-1.8\" rx=\"1.8\" ry=\"1.8\"/>\n</g>\n<!-- 12&#45;&gt;9 -->\n<g id=\"edge7\" class=\"edge\">\n<title>12&#45;&gt;9</title>\n<path fill=\"none\" stroke=\"black\" d=\"M107.8,-55.22C107.8,-48.8 107.8,-10.96 107.8,-3.93\"/>\n<text text-anchor=\"middle\" x=\"122.8\" y=\"-24.05\" font-family=\"Times New Roman,serif\" font-size=\"14.00\"> [2/6]</text>\n</g>\n<!-- 13 -->\n<g id=\"node9\" class=\"node\">\n<title>13</title>\n<ellipse fill=\"black\" stroke=\"black\" cx=\"160.8\" cy=\"-1.8\" rx=\"1.8\" ry=\"1.8\"/>\n</g>\n<!-- 12&#45;&gt;13 -->\n<g id=\"edge8\" class=\"edge\">\n<title>12&#45;&gt;13</title>\n<path fill=\"none\" stroke=\"black\" d=\"M109.39,-55.5C114.26,-53.45 129.26,-46.68 138.8,-37.35 149.98,-26.41 158.19,-8.76 160.28,-4.01\"/>\n<text text-anchor=\"middle\" x=\"165.8\" y=\"-24.05\" font-family=\"Times New Roman,serif\" font-size=\"14.00\"> [4/6]</text>\n</g>\n</g>\n</svg>\n",
      "text/plain": [
       "<graphviz.sources.Source at 0x1ee898633d0>"
      ]
     },
     "metadata": {},
     "output_type": "display_data"
    }
   ],
   "execution_count": 280
  },
  {
   "cell_type": "code",
   "id": "3f7ed4a7",
   "metadata": {
    "ExecuteTime": {
     "end_time": "2025-04-03T16:23:08.146361Z",
     "start_time": "2025-04-03T16:23:08.126258Z"
    }
   },
   "source": [
    "text2 = \"abaabaabcd\"\n",
    "tree2 = SuffixTree(text2)\n",
    "tree2.show_stree()"
   ],
   "outputs": [
    {
     "data": {
      "image/svg+xml": "<?xml version=\"1.0\" encoding=\"UTF-8\" standalone=\"no\"?>\n<!DOCTYPE svg PUBLIC \"-//W3C//DTD SVG 1.1//EN\"\n \"http://www.w3.org/Graphics/SVG/1.1/DTD/svg11.dtd\">\n<!-- Generated by graphviz version 9.0.0 (20230911.1827)\n -->\n<!-- Pages: 1 -->\n<svg width=\"387pt\" height=\"257pt\"\n viewBox=\"0.00 0.00 386.60 257.30\" xmlns=\"http://www.w3.org/2000/svg\" xmlns:xlink=\"http://www.w3.org/1999/xlink\">\n<g id=\"graph0\" class=\"graph\" transform=\"scale(1 1) rotate(0) translate(4 253.3)\">\n<polygon fill=\"white\" stroke=\"none\" points=\"-4,4 -4,-253.3 382.6,-253.3 382.6,4 -4,4\"/>\n<!-- 16 -->\n<g id=\"node1\" class=\"node\">\n<title>16</title>\n<ellipse fill=\"black\" stroke=\"black\" cx=\"293.8\" cy=\"-247.5\" rx=\"1.8\" ry=\"1.8\"/>\n</g>\n<!-- 19 -->\n<g id=\"node2\" class=\"node\">\n<title>19</title>\n<ellipse fill=\"black\" stroke=\"black\" cx=\"159.8\" cy=\"-186.07\" rx=\"1.8\" ry=\"1.8\"/>\n</g>\n<!-- 16&#45;&gt;19 -->\n<g id=\"edge1\" class=\"edge\">\n<title>16&#45;&gt;19</title>\n<path fill=\"none\" stroke=\"black\" d=\"M292.3,-245.83C278.49,-239.71 174.12,-193.43 161.13,-187.66\"/>\n<text text-anchor=\"middle\" x=\"255.68\" y=\"-214.4\" font-family=\"Times New Roman,serif\" font-size=\"14.00\"> a</text>\n</g>\n<!-- 29 -->\n<g id=\"node3\" class=\"node\">\n<title>29</title>\n<ellipse fill=\"black\" stroke=\"black\" cx=\"267.8\" cy=\"-186.07\" rx=\"1.8\" ry=\"1.8\"/>\n</g>\n<!-- 16&#45;&gt;29 -->\n<g id=\"edge2\" class=\"edge\">\n<title>16&#45;&gt;29</title>\n<path fill=\"none\" stroke=\"black\" d=\"M293.35,-245.47C290.17,-238.19 271.14,-194.71 268.19,-187.96\"/>\n<text text-anchor=\"middle\" x=\"291.43\" y=\"-214.4\" font-family=\"Times New Roman,serif\" font-size=\"14.00\"> b</text>\n</g>\n<!-- 31 -->\n<g id=\"node4\" class=\"node\">\n<title>31</title>\n<ellipse fill=\"black\" stroke=\"black\" cx=\"319.8\" cy=\"-118.58\" rx=\"1.8\" ry=\"1.8\"/>\n</g>\n<!-- 16&#45;&gt;31 -->\n<g id=\"edge3\" class=\"edge\">\n<title>16&#45;&gt;31</title>\n<path fill=\"none\" stroke=\"black\" d=\"M294.25,-245.5C295.47,-242.73 298.9,-234.69 300.8,-227.7 312.59,-184.29 318.79,-129.03 319.69,-120.66\"/>\n<text text-anchor=\"middle\" x=\"330.18\" y=\"-180.65\" font-family=\"Times New Roman,serif\" font-size=\"14.00\"> [8/10]</text>\n</g>\n<!-- 32 -->\n<g id=\"node5\" class=\"node\">\n<title>32</title>\n<ellipse fill=\"black\" stroke=\"black\" cx=\"376.8\" cy=\"-186.07\" rx=\"1.8\" ry=\"1.8\"/>\n</g>\n<!-- 16&#45;&gt;32 -->\n<g id=\"edge4\" class=\"edge\">\n<title>16&#45;&gt;32</title>\n<path fill=\"none\" stroke=\"black\" d=\"M295.42,-245.95C301.04,-244 320.1,-237.03 333.8,-227.7 353.49,-214.28 372.81,-191.82 376.26,-187.73\"/>\n<text text-anchor=\"middle\" x=\"358.43\" y=\"-214.4\" font-family=\"Times New Roman,serif\" font-size=\"14.00\"> d</text>\n</g>\n<!-- 25 -->\n<g id=\"node6\" class=\"node\">\n<title>25</title>\n<ellipse fill=\"black\" stroke=\"black\" cx=\"61.8\" cy=\"-118.58\" rx=\"1.8\" ry=\"1.8\"/>\n</g>\n<!-- 19&#45;&gt;25 -->\n<g id=\"edge5\" class=\"edge\">\n<title>19&#45;&gt;25</title>\n<path fill=\"none\" stroke=\"black\" d=\"M158.7,-184.34C148.69,-177.65 73.54,-127.42 63.02,-120.39\"/>\n<text text-anchor=\"middle\" x=\"137.8\" y=\"-146.9\" font-family=\"Times New Roman,serif\" font-size=\"14.00\"> [3/5]</text>\n</g>\n<!-- 27 -->\n<g id=\"node7\" class=\"node\">\n<title>27</title>\n<ellipse fill=\"black\" stroke=\"black\" cx=\"159.8\" cy=\"-118.58\" rx=\"1.8\" ry=\"1.8\"/>\n</g>\n<!-- 19&#45;&gt;27 -->\n<g id=\"edge6\" class=\"edge\">\n<title>19&#45;&gt;27</title>\n<path fill=\"none\" stroke=\"black\" d=\"M159.8,-183.94C159.8,-175.92 159.8,-127.99 159.8,-120.55\"/>\n<text text-anchor=\"middle\" x=\"165.43\" y=\"-146.9\" font-family=\"Times New Roman,serif\" font-size=\"14.00\"> b</text>\n</g>\n<!-- 23 -->\n<g id=\"node14\" class=\"node\">\n<title>23</title>\n<ellipse fill=\"black\" stroke=\"black\" cx=\"226.8\" cy=\"-57.15\" rx=\"1.8\" ry=\"1.8\"/>\n</g>\n<!-- 29&#45;&gt;23 -->\n<g id=\"edge13\" class=\"edge\">\n<title>29&#45;&gt;23</title>\n<path fill=\"none\" stroke=\"black\" d=\"M267.23,-184.3C263.65,-179.39 244.14,-152.03 235.8,-126.45 227.19,-100.07 226.79,-65.41 226.8,-59.14\"/>\n<text text-anchor=\"middle\" x=\"250.8\" y=\"-113.15\" font-family=\"Times New Roman,serif\" font-size=\"14.00\"> [2/5]</text>\n</g>\n<!-- 30 -->\n<g id=\"node15\" class=\"node\">\n<title>30</title>\n<ellipse fill=\"black\" stroke=\"black\" cx=\"276.8\" cy=\"-118.58\" rx=\"1.8\" ry=\"1.8\"/>\n</g>\n<!-- 29&#45;&gt;30 -->\n<g id=\"edge14\" class=\"edge\">\n<title>29&#45;&gt;30</title>\n<path fill=\"none\" stroke=\"black\" d=\"M267.71,-183.8C267.4,-178.76 266.48,-159.76 269.05,-144.45 270.67,-134.81 275.07,-123.73 276.41,-120.5\"/>\n<text text-anchor=\"middle\" x=\"288.18\" y=\"-146.9\" font-family=\"Times New Roman,serif\" font-size=\"14.00\"> [8/10]</text>\n</g>\n<!-- 20 -->\n<g id=\"node8\" class=\"node\">\n<title>20</title>\n<ellipse fill=\"black\" stroke=\"black\" cx=\"1.8\" cy=\"-57.15\" rx=\"1.8\" ry=\"1.8\"/>\n</g>\n<!-- 25&#45;&gt;20 -->\n<g id=\"edge7\" class=\"edge\">\n<title>25&#45;&gt;20</title>\n<path fill=\"none\" stroke=\"black\" d=\"M60.36,-117.02C54.7,-114.77 33.69,-105.85 21.05,-92.7 10.58,-81.81 3.89,-64.12 2.21,-59.36\"/>\n<text text-anchor=\"middle\" x=\"40.18\" y=\"-79.4\" font-family=\"Times New Roman,serif\" font-size=\"14.00\"> [5/10]</text>\n</g>\n<!-- 26 -->\n<g id=\"node9\" class=\"node\">\n<title>26</title>\n<ellipse fill=\"black\" stroke=\"black\" cx=\"61.8\" cy=\"-57.15\" rx=\"1.8\" ry=\"1.8\"/>\n</g>\n<!-- 25&#45;&gt;26 -->\n<g id=\"edge8\" class=\"edge\">\n<title>25&#45;&gt;26</title>\n<path fill=\"none\" stroke=\"black\" d=\"M61.8,-116.54C61.8,-109.39 61.8,-67.24 61.8,-59.4\"/>\n<text text-anchor=\"middle\" x=\"80.18\" y=\"-79.4\" font-family=\"Times New Roman,serif\" font-size=\"14.00\"> [8/10]</text>\n</g>\n<!-- 21 -->\n<g id=\"node10\" class=\"node\">\n<title>21</title>\n<ellipse fill=\"black\" stroke=\"black\" cx=\"121.8\" cy=\"-57.15\" rx=\"1.8\" ry=\"1.8\"/>\n</g>\n<!-- 27&#45;&gt;21 -->\n<g id=\"edge9\" class=\"edge\">\n<title>27&#45;&gt;21</title>\n<path fill=\"none\" stroke=\"black\" d=\"M158.57,-116.79C154.33,-114.04 140.2,-104.31 132.8,-92.7 125.36,-81.02 122.58,-63.9 121.95,-59.31\"/>\n<text text-anchor=\"middle\" x=\"147.8\" y=\"-79.4\" font-family=\"Times New Roman,serif\" font-size=\"14.00\"> [2/5]</text>\n</g>\n<!-- 28 -->\n<g id=\"node11\" class=\"node\">\n<title>28</title>\n<ellipse fill=\"black\" stroke=\"black\" cx=\"174.8\" cy=\"-57.15\" rx=\"1.8\" ry=\"1.8\"/>\n</g>\n<!-- 27&#45;&gt;28 -->\n<g id=\"edge10\" class=\"edge\">\n<title>27&#45;&gt;28</title>\n<path fill=\"none\" stroke=\"black\" d=\"M160.06,-116.54C161.87,-109.39 172.5,-67.24 174.48,-59.4\"/>\n<text text-anchor=\"middle\" x=\"189.18\" y=\"-79.4\" font-family=\"Times New Roman,serif\" font-size=\"14.00\"> [8/10]</text>\n</g>\n<!-- 17 -->\n<g id=\"node12\" class=\"node\">\n<title>17</title>\n<ellipse fill=\"black\" stroke=\"black\" cx=\"73.8\" cy=\"-1.8\" rx=\"1.8\" ry=\"1.8\"/>\n</g>\n<!-- 21&#45;&gt;17 -->\n<g id=\"edge11\" class=\"edge\">\n<title>21&#45;&gt;17</title>\n<path fill=\"none\" stroke=\"black\" d=\"M120.18,-55.76C114.6,-54.31 95.97,-48.8 86.05,-37.35 76.88,-26.77 74.43,-8.86 73.91,-4.03\"/>\n<text text-anchor=\"middle\" x=\"105.18\" y=\"-24.05\" font-family=\"Times New Roman,serif\" font-size=\"14.00\"> [5/10]</text>\n</g>\n<!-- 22 -->\n<g id=\"node13\" class=\"node\">\n<title>22</title>\n<ellipse fill=\"black\" stroke=\"black\" cx=\"133.8\" cy=\"-1.8\" rx=\"1.8\" ry=\"1.8\"/>\n</g>\n<!-- 21&#45;&gt;22 -->\n<g id=\"edge12\" class=\"edge\">\n<title>21&#45;&gt;22</title>\n<path fill=\"none\" stroke=\"black\" d=\"M122.01,-55.22C123.45,-48.8 131.96,-10.96 133.55,-3.93\"/>\n<text text-anchor=\"middle\" x=\"148.18\" y=\"-24.05\" font-family=\"Times New Roman,serif\" font-size=\"14.00\"> [8/10]</text>\n</g>\n<!-- 18 -->\n<g id=\"node16\" class=\"node\">\n<title>18</title>\n<ellipse fill=\"black\" stroke=\"black\" cx=\"215.8\" cy=\"-1.8\" rx=\"1.8\" ry=\"1.8\"/>\n</g>\n<!-- 23&#45;&gt;18 -->\n<g id=\"edge15\" class=\"edge\">\n<title>23&#45;&gt;18</title>\n<path fill=\"none\" stroke=\"black\" d=\"M226.11,-55.2C224.22,-52.53 219,-44.75 217.05,-37.35 213.69,-24.58 215.18,-8.24 215.67,-3.9\"/>\n<text text-anchor=\"middle\" x=\"236.18\" y=\"-24.05\" font-family=\"Times New Roman,serif\" font-size=\"14.00\"> [5/10]</text>\n</g>\n<!-- 24 -->\n<g id=\"node17\" class=\"node\">\n<title>24</title>\n<ellipse fill=\"black\" stroke=\"black\" cx=\"275.8\" cy=\"-1.8\" rx=\"1.8\" ry=\"1.8\"/>\n</g>\n<!-- 23&#45;&gt;24 -->\n<g id=\"edge16\" class=\"edge\">\n<title>23&#45;&gt;24</title>\n<path fill=\"none\" stroke=\"black\" d=\"M227.95,-55.57C231.91,-53.52 245.26,-46.25 253.8,-37.35 264.63,-26.06 273.09,-8.66 275.26,-3.99\"/>\n<text text-anchor=\"middle\" x=\"284.18\" y=\"-24.05\" font-family=\"Times New Roman,serif\" font-size=\"14.00\"> [8/10]</text>\n</g>\n</g>\n</svg>\n",
      "text/plain": [
       "<graphviz.sources.Source at 0x1ee8985fa50>"
      ]
     },
     "metadata": {},
     "output_type": "display_data"
    }
   ],
   "execution_count": 281
  },
  {
   "cell_type": "code",
   "id": "0e473f90",
   "metadata": {
    "ExecuteTime": {
     "end_time": "2025-04-03T16:23:08.169438Z",
     "start_time": "2025-04-03T16:23:08.166215Z"
    }
   },
   "source": "tree2.find_string(\"ba\")",
   "outputs": [
    {
     "data": {
      "text/plain": [
       "[1, 4]"
      ]
     },
     "execution_count": 282,
     "metadata": {},
     "output_type": "execute_result"
    }
   ],
   "execution_count": 282
  },
  {
   "cell_type": "code",
   "id": "6480b758",
   "metadata": {
    "ExecuteTime": {
     "end_time": "2025-04-03T16:23:08.276192Z",
     "start_time": "2025-04-03T16:23:08.255529Z"
    }
   },
   "source": [
    "SuffixTree(\"aab\").show_stree()"
   ],
   "outputs": [
    {
     "data": {
      "image/svg+xml": "<?xml version=\"1.0\" encoding=\"UTF-8\" standalone=\"no\"?>\n<!DOCTYPE svg PUBLIC \"-//W3C//DTD SVG 1.1//EN\"\n \"http://www.w3.org/Graphics/SVG/1.1/DTD/svg11.dtd\">\n<!-- Generated by graphviz version 9.0.0 (20230911.1827)\n -->\n<!-- Pages: 1 -->\n<svg width=\"75pt\" height=\"122pt\"\n viewBox=\"0.00 0.00 74.89 122.30\" xmlns=\"http://www.w3.org/2000/svg\" xmlns:xlink=\"http://www.w3.org/1999/xlink\">\n<g id=\"graph0\" class=\"graph\" transform=\"scale(1 1) rotate(0) translate(4 118.3)\">\n<polygon fill=\"white\" stroke=\"none\" points=\"-4,4 -4,-118.3 70.89,-118.3 70.89,4 -4,4\"/>\n<!-- 33 -->\n<g id=\"node1\" class=\"node\">\n<title>33</title>\n<ellipse fill=\"black\" stroke=\"black\" cx=\"44.64\" cy=\"-112.5\" rx=\"1.8\" ry=\"1.8\"/>\n</g>\n<!-- 35 -->\n<g id=\"node2\" class=\"node\">\n<title>35</title>\n<ellipse fill=\"black\" stroke=\"black\" cx=\"28.64\" cy=\"-57.15\" rx=\"1.8\" ry=\"1.8\"/>\n</g>\n<!-- 33&#45;&gt;35 -->\n<g id=\"edge1\" class=\"edge\">\n<title>33&#45;&gt;35</title>\n<path fill=\"none\" stroke=\"black\" d=\"M43.6,-110.62C40.74,-108.15 32.86,-100.8 29.89,-92.7 25.36,-80.3 27.7,-63.7 28.44,-59.27\"/>\n<text text-anchor=\"middle\" x=\"35.52\" y=\"-79.4\" font-family=\"Times New Roman,serif\" font-size=\"14.00\"> a</text>\n</g>\n<!-- 37 -->\n<g id=\"node3\" class=\"node\">\n<title>37</title>\n<ellipse fill=\"black\" stroke=\"black\" cx=\"61.64\" cy=\"-57.15\" rx=\"1.8\" ry=\"1.8\"/>\n</g>\n<!-- 33&#45;&gt;37 -->\n<g id=\"edge2\" class=\"edge\">\n<title>33&#45;&gt;37</title>\n<path fill=\"none\" stroke=\"black\" d=\"M44.94,-110.57C46.99,-104.15 59.04,-66.31 61.29,-59.28\"/>\n<text text-anchor=\"middle\" x=\"61.27\" y=\"-79.4\" font-family=\"Times New Roman,serif\" font-size=\"14.00\"> b</text>\n</g>\n<!-- 34 -->\n<g id=\"node4\" class=\"node\">\n<title>34</title>\n<ellipse fill=\"black\" stroke=\"black\" cx=\"2.64\" cy=\"-1.8\" rx=\"1.8\" ry=\"1.8\"/>\n</g>\n<!-- 35&#45;&gt;34 -->\n<g id=\"edge3\" class=\"edge\">\n<title>35&#45;&gt;34</title>\n<path fill=\"none\" stroke=\"black\" d=\"M27.15,-55.58C22.61,-53.76 8.94,-47.58 3.64,-37.35 -2.42,-25.62 1.2,-8.54 2.34,-3.96\"/>\n<text text-anchor=\"middle\" x=\"18.64\" y=\"-24.05\" font-family=\"Times New Roman,serif\" font-size=\"14.00\"> [1/3]</text>\n</g>\n<!-- 36 -->\n<g id=\"node5\" class=\"node\">\n<title>36</title>\n<ellipse fill=\"black\" stroke=\"black\" cx=\"55.64\" cy=\"-1.8\" rx=\"1.8\" ry=\"1.8\"/>\n</g>\n<!-- 35&#45;&gt;36 -->\n<g id=\"edge4\" class=\"edge\">\n<title>35&#45;&gt;36</title>\n<path fill=\"none\" stroke=\"black\" d=\"M29.11,-55.22C32.36,-48.8 51.51,-10.96 55.07,-3.93\"/>\n<text text-anchor=\"middle\" x=\"51.27\" y=\"-24.05\" font-family=\"Times New Roman,serif\" font-size=\"14.00\"> b</text>\n</g>\n</g>\n</svg>\n",
      "text/plain": [
       "<graphviz.sources.Source at 0x1ee89867090>"
      ]
     },
     "metadata": {},
     "output_type": "display_data"
    }
   ],
   "execution_count": 283
  },
  {
   "metadata": {
    "ExecuteTime": {
     "end_time": "2025-04-03T16:23:08.289436Z",
     "start_time": "2025-04-03T16:23:08.287761Z"
    }
   },
   "cell_type": "code",
   "source": "",
   "id": "d43899a9a6162a6b",
   "outputs": [],
   "execution_count": null
  }
 ],
 "metadata": {
  "kernelspec": {
   "display_name": "Python 3 (ipykernel)",
   "language": "python",
   "name": "python3"
  },
  "language_info": {
   "codemirror_mode": {
    "name": "ipython",
    "version": 3
   },
   "file_extension": ".py",
   "mimetype": "text/x-python",
   "name": "python",
   "nbconvert_exporter": "python",
   "pygments_lexer": "ipython3",
   "version": "3.10.4"
  }
 },
 "nbformat": 4,
 "nbformat_minor": 5
}
