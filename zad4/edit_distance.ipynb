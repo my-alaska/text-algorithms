{
 "cells": [
  {
   "cell_type": "markdown",
   "id": "7762dacb",
   "metadata": {},
   "source": [
    "# Edit Distance\n"
   ]
  },
  {
   "cell_type": "code",
   "execution_count": 1,
   "id": "16ccc730",
   "metadata": {},
   "outputs": [],
   "source": [
    "import numpy as np\n",
    "from spacy.language import Language\n",
    "from spacy.tokenizer import Tokenizer\n",
    "from spacy.vocab import Vocab\n",
    "from random import randrange"
   ]
  },
  {
   "cell_type": "markdown",
   "id": "5a3fcf8a",
   "metadata": {},
   "source": [
    "# edit distance function"
   ]
  },
  {
   "cell_type": "markdown",
   "id": "4f7af942",
   "metadata": {},
   "source": [
    "An optional step in creating an edit distance function is creating a delta function that will compare characters and then passing it as a parameter into the edit distance function. For the most basic algorithm we create a function that only return 0 when characters are equal which means that their distance equals 0. Otherwise it equals 1"
   ]
  },
  {
   "cell_type": "code",
   "execution_count": 2,
   "id": "52d77389",
   "metadata": {},
   "outputs": [],
   "source": [
    "# delta function for  difference between two characters\n",
    "def delta(a, b):\n",
    "    if a == b:\n",
    "        return 0\n",
    "    else:\n",
    "        return 1"
   ]
  },
  {
   "cell_type": "markdown",
   "id": "9d9938e1",
   "metadata": {},
   "source": [
    "Then we create the edit distance function that will compare two strings T1 and T2 "
   ]
  },
  {
   "cell_type": "code",
   "execution_count": 3,
   "id": "ec68d817",
   "metadata": {},
   "outputs": [],
   "source": [
    "# function for finding edit distance between two strings (T1 and T2) with given delta function (fdelta)\n",
    "def edit_distance(T1, T2, fdelta):\n",
    "\n",
    "    # initialize the result table with functions from the numpy library\n",
    "    RT = np.zeros((len(T1) + 1, len(T2) + 1))\n",
    "    # arr1 and arr2 are vectors that help to initialize first column and line\n",
    "    arr1 = np.linspace((0, 0), (len(T1), 0), len(T1) + 1)\n",
    "    arr2 = np.linspace((0, 0), (len(T2), 0), len(T2) + 1)\n",
    "    RT[:, 0], RT[0, :] = arr1[:, 0], arr2[:, 0]\n",
    "\n",
    "    # we decrement each value in arr1 by one in order to initialize the parents table\n",
    "    # parents table will tell us what position in the table was the one we reached the current position result from\n",
    "    arr1[:, 0] -= np.ones(len(T1) + 1)\n",
    "    arr2[:, 0] -= np.ones(len(T2) + 1)\n",
    "    parents = np.zeros((len(T1) + 1, len(T2) + 1, 2))\n",
    "    parents[:, 0], parents[0, :] = arr1[:], arr2[:]\n",
    "    parents[0, 0] = np.array([0, 0])\n",
    "\n",
    "    # we fill up the result table and parents table considering the knowledge we stored in previous column and line\n",
    "    for i in range(len(T1)):\n",
    "        for j in range(len(T2)):\n",
    "            a, b, c = (\n",
    "                RT[i, j + 1] + 1,\n",
    "                RT[i + 1, j] + 1,\n",
    "                RT[i, j] + fdelta(T1[i], T2[j]),\n",
    "            )\n",
    "\n",
    "            # case in which the characers are the same or we have to change a character to some other\n",
    "            if c <= a and c <= b:\n",
    "                RT[i + 1, j + 1] = c\n",
    "                parents[i + 1, j + 1] = np.array([i, j])\n",
    "            # case in which we remove the character\n",
    "            elif b < a:\n",
    "                RT[i + 1, j + 1] = b\n",
    "                parents[i + 1, j + 1] = np.array([i + 1, j])\n",
    "            # case in which we add a character\n",
    "            else:\n",
    "                RT[i + 1, j + 1] = a\n",
    "                parents[i + 1, j + 1] = np.array([i, j + 1])\n",
    "\n",
    "    # we return the result table and parents table for future visualisation\n",
    "    return RT, parents"
   ]
  },
  {
   "cell_type": "markdown",
   "id": "f85ad4da",
   "metadata": {},
   "source": [
    "# visualisation of edit distance function"
   ]
  },
  {
   "cell_type": "markdown",
   "id": "f017ecc2",
   "metadata": {},
   "source": [
    "To visualize changes that have to be applied to one string that will hange it into other we'll need a visualisation function.\n",
    "The funcion will take two strings and delta function as an input and calculate the result and parents table with previously implemented edit distance function"
   ]
  },
  {
   "cell_type": "code",
   "execution_count": 4,
   "id": "e4c315b5",
   "metadata": {},
   "outputs": [],
   "source": [
    "# result visualisation function\n",
    "def visualise(T1, T2, fdelta):\n",
    "    # we calculate result table and parents table\n",
    "    RT, parents = edit_distance(T1, T2, fdelta)\n",
    "\n",
    "    # we recreate the path path in which we can reach T2 from T1.\n",
    "    # we start in the final position in the parents table and go backwards until we reach the (0,0) position\n",
    "    # we store our path in the 'result' array and then reverse it so that our path starts at the beginning of the string\n",
    "    i, j = len(T1), len(T2)\n",
    "    result = []\n",
    "    while i != 0 or j != 0:\n",
    "        result.append((i, j))\n",
    "        p = parents[i, j]\n",
    "        i, j = int(p[0]), int(p[1])\n",
    "    result.append((0, 0))\n",
    "    result.reverse()\n",
    "\n",
    "    # we copy T1 in order to modify it\n",
    "    string = T1\n",
    "    # we'll need to know which position we came from at every moment so we store that information\n",
    "    prev = result[0]\n",
    "    print(\"source\", string)\n",
    "\n",
    "    # in a loop we'll iterate through the calculated path printing correct operations alongside modified string\n",
    "    # the length of a string might change thus we'll need an offset variable. Otherwise we'll use wrong list indexes\n",
    "    # we'll decrement the offset variable when deleting a character from 'string' and increment it when adding\n",
    "    # we'll then use the offset variable to calculate the proper index of the letter in the string\n",
    "    offset = 0\n",
    "    for i in range(1, len(result)):\n",
    "\n",
    "        # we copy the result for better clarity\n",
    "        a, b = result[i][0], result[i][1]\n",
    "\n",
    "        # case in which we change the letter\n",
    "        if a == prev[0] + 1 and b == prev[1] + 1:\n",
    "            # we only need to print if the letters differ\n",
    "            if T1[a - 1] != T2[b - 1]:\n",
    "                string = string[: a - 1 + offset] + T2[b - 1] + string[a + offset :]\n",
    "                print(\"change\", string)\n",
    "            else:\n",
    "                pass\n",
    "\n",
    "        # case in which we delete the letter\n",
    "        elif a == prev[0] + 1:\n",
    "            offset -= 1  # updating offset\n",
    "            string = string[: a + offset] + string[a + 1 + offset :]\n",
    "            print(\"delete\", string)\n",
    "\n",
    "        # case in which we add a leter\n",
    "        else:\n",
    "            offset += 1  # updating offset\n",
    "            string = string[: a - 1 + offset] + T2[b - 1] + string[a - 1 + offset :]\n",
    "            print(\"insert\", string)\n",
    "        prev = result[i]  # updating the previous position to the current one\n",
    "\n",
    "    # we return the edit distance for printing\n",
    "    return RT[len(T1), len(T2)]"
   ]
  },
  {
   "cell_type": "code",
   "execution_count": 5,
   "id": "3d90986e",
   "metadata": {
    "scrolled": false
   },
   "outputs": [
    {
     "name": "stdout",
     "output_type": "stream",
     "text": [
      "source los\n",
      "insert klos\n",
      "change kloc\n",
      "2.0\n"
     ]
    }
   ],
   "source": [
    "print(visualise(\"los\", \"kloc\", delta))"
   ]
  },
  {
   "cell_type": "code",
   "execution_count": 6,
   "id": "11fb53f5",
   "metadata": {
    "scrolled": false
   },
   "outputs": [
    {
     "name": "stdout",
     "output_type": "stream",
     "text": [
      "source Łódź\n",
      "change Lódź\n",
      "change Lodź\n",
      "change Lodz\n",
      "3.0\n"
     ]
    }
   ],
   "source": [
    "print(visualise(\"Łódź\", \"Lodz\", delta))"
   ]
  },
  {
   "cell_type": "code",
   "execution_count": 7,
   "id": "6d2b2c99",
   "metadata": {
    "scrolled": false
   },
   "outputs": [
    {
     "name": "stdout",
     "output_type": "stream",
     "text": [
      "source kwintesencja\n",
      "change qwintesencja\n",
      "change quintesencja\n",
      "insert quintessencja\n",
      "delete quintessenca\n",
      "change quintessence\n",
      "5.0\n"
     ]
    }
   ],
   "source": [
    "print(visualise(\"kwintesencja\", \"quintessence\", delta))"
   ]
  },
  {
   "cell_type": "code",
   "execution_count": 8,
   "id": "21d1608e",
   "metadata": {
    "scrolled": false
   },
   "outputs": [
    {
     "name": "stdout",
     "output_type": "stream",
     "text": [
      "source ATGAATCTTACCGCCTCG\n",
      "change ATGAGTCTTACCGCCTCG\n",
      "change ATGAGGCTTACCGCCTCG\n",
      "insert ATGAGGCTCTACCGCCTCG\n",
      "change ATGAGGCTCTGCCGCCTCG\n",
      "change ATGAGGCTCTGGCGCCTCG\n",
      "change ATGAGGCTCTGGCCCCTCG\n",
      "delete ATGAGGCTCTGGCCCCTG\n",
      "7.0\n"
     ]
    }
   ],
   "source": [
    "print(visualise(\"ATGAATCTTACCGCCTCG\", \"ATGAGGCTCTGGCCCCTG\", delta))"
   ]
  },
  {
   "cell_type": "code",
   "execution_count": 9,
   "id": "2edac9bc",
   "metadata": {},
   "outputs": [
    {
     "name": "stdout",
     "output_type": "stream",
     "text": [
      "source cbabac\n",
      "change ababac\n",
      "insert abcabac\n",
      "change abcabbc\n",
      "change abcabba\n",
      "4.0\n"
     ]
    }
   ],
   "source": [
    "print(visualise(\"cbabac\", \"abcabba\", delta))"
   ]
  },
  {
   "cell_type": "markdown",
   "id": "baf6d142",
   "metadata": {},
   "source": [
    "# calculating the longest common subsequence"
   ]
  },
  {
   "cell_type": "markdown",
   "id": "b340ad8d",
   "metadata": {},
   "source": [
    "To calculate the longest common subsequence we can use the edit distance algorithm but somehow we'll need to ignore the case in which we change the letter into a different one. While looking for the longest common subsequence we can't change caracters. Instead we localize the positions of characters that appear in one string and not in the other one and vice versa. In our algorithm these letters will be the ones that will be considered deleted or inserted. We can do that by simply creating a proper delta function that will never allow the algorithm to change letters"
   ]
  },
  {
   "cell_type": "code",
   "execution_count": 10,
   "id": "88584b27",
   "metadata": {},
   "outputs": [],
   "source": [
    "# the delta function will return infinity when the letters are different otherwise it'll return 0.\n",
    "# this will never allow the algorithm to change letters.\n",
    "# it will only consider the steps that would result in insertion and deletion\n",
    "def delta2(a, b):\n",
    "    if a == b:\n",
    "        return 0\n",
    "    else:\n",
    "        return float(\"inf\")  # or 2"
   ]
  },
  {
   "cell_type": "markdown",
   "id": "faa491d3",
   "metadata": {},
   "source": [
    "Then we'll simply use the edit distance function with our new delta function and use the known formula to calculate the length of the longest common subsequence"
   ]
  },
  {
   "cell_type": "code",
   "execution_count": 11,
   "id": "34ff12db",
   "metadata": {},
   "outputs": [],
   "source": [
    "# find the longest common subsequence\n",
    "def lcs(T1, T2):\n",
    "    RT, parents = edit_distance(T1, T2, delta2)\n",
    "\n",
    "    # we return the result of calculated formula but also the result and parents table for future reference and printing\n",
    "    return (len(T1) + len(T2) - RT[-1, -1]) / 2, RT, parents"
   ]
  },
  {
   "cell_type": "code",
   "execution_count": 12,
   "id": "6909fc3f",
   "metadata": {},
   "outputs": [
    {
     "name": "stdout",
     "output_type": "stream",
     "text": [
      "4.0\n"
     ]
    }
   ],
   "source": [
    "print(lcs(\"cbabac\", \"abcabba\")[0])"
   ]
  },
  {
   "cell_type": "markdown",
   "id": "6d016761",
   "metadata": {},
   "source": [
    "# file tokenization"
   ]
  },
  {
   "cell_type": "markdown",
   "id": "0a42057a",
   "metadata": {},
   "source": [
    "To tokenize the file we'll use the spacy's tokenizer tool. We'll save it in two new files. We'll then use the longest common subsequence function to calculate the number of common tokens"
   ]
  },
  {
   "cell_type": "code",
   "execution_count": 13,
   "id": "9613a233",
   "metadata": {
    "scrolled": false
   },
   "outputs": [
    {
     "name": "stdout",
     "output_type": "stream",
     "text": [
      "number of original tokens  : 2272\n",
      "number of tokens in text 1 : 2198\n",
      "number of tokens in text 2 : 2209\n",
      "number of   common tokens  : 2139\n"
     ]
    }
   ],
   "source": [
    "# reading the file\n",
    "file = open(\"romeo-i-julia-700.txt\", \"r\", encoding=\"utf-8\")\n",
    "text = file.read()\n",
    "\n",
    "# tokenizing the text with a tokenizer\n",
    "vocab = Language(Vocab()).vocab\n",
    "tokenizer = Tokenizer(vocab)\n",
    "tokens = tokenizer(text)\n",
    "\n",
    "# creating 2 versions of the original text with the 3% of tokens removed and storing them in files\n",
    "T1, T2 = [], []\n",
    "for token in tokens:\n",
    "    if randrange(100) >= 3:\n",
    "        T1.append(token)\n",
    "    if randrange(100) >= 3:\n",
    "        T2.append(token)\n",
    "\n",
    "# writing to files\n",
    "f1 = open(\"text1.txt\", \"w\", encoding=\"utf-8\")\n",
    "f2 = open(\"text2.txt\", \"w\", encoding=\"utf-8\")\n",
    "for token in T1:\n",
    "    f1.write(token.text_with_ws)\n",
    "for token in T2:\n",
    "    f2.write(token.text_with_ws)\n",
    "\n",
    "\n",
    "# printing token statistics\n",
    "print(\"number of original tokens  :\", len(tokens))\n",
    "print(\"number of tokens in text 1 :\", len(T1))\n",
    "print(\"number of tokens in text 2 :\", len(T2))\n",
    "d, RT, parents = lcs(T1, T2)\n",
    "print(\"number of   common tokens  :\", int(d))\n",
    "\n",
    "\n",
    "file.close()\n",
    "f1.close()\n",
    "f2.close()"
   ]
  },
  {
   "cell_type": "markdown",
   "id": "111e2780",
   "metadata": {},
   "source": [
    "# diff function"
   ]
  },
  {
   "cell_type": "markdown",
   "id": "c576a7df",
   "metadata": {},
   "source": [
    "To build a diff tool we'll use the longest common subsequence function. We'll be passin two arrays of strings: T1 and T2. Fortunately python allows us to compare strings easily. We'll use similar thought process that we used in visualisation function for the edit distance algorithm"
   ]
  },
  {
   "cell_type": "code",
   "execution_count": 14,
   "id": "5fbc301e",
   "metadata": {
    "scrolled": false
   },
   "outputs": [],
   "source": [
    "def diff(T1, T2):\n",
    "    # we first run the longes common subsequence function\n",
    "    d, RT, parents = lcs(T1, T2)\n",
    "\n",
    "    # then we recreate the path (similarly to the visualisation function)\n",
    "    i, j = len(T1), len(T2)\n",
    "    result = []\n",
    "    while i != 0 or j != 0:\n",
    "        result.append((i, j))\n",
    "        p = parents[i, j]\n",
    "        i, j = int(p[0]), int(p[1])\n",
    "    result.append((0, 0))\n",
    "    result.reverse()\n",
    "\n",
    "    # we then print each string that appears in T1 and doesn't in T2 and vice versa\n",
    "    prev = result[0]\n",
    "    for i in range(1, len(result)):\n",
    "        a, b = result[i][0], result[i][1]\n",
    "        if (\n",
    "            a == prev[0] + 1 and b == prev[1] + 1\n",
    "        ):  # we don't want to print identical lines\n",
    "            pass\n",
    "        elif a == prev[0] + 1:\n",
    "            print(\n",
    "                f\"< {a-1} {T1[a-1]}\",\n",
    "            )  # or a-1 ???\n",
    "        else:\n",
    "            print(f\"> {b-1} {T2[b-1]}\")\n",
    "        prev = result[i]"
   ]
  },
  {
   "cell_type": "markdown",
   "id": "3542efeb",
   "metadata": {},
   "source": [
    "To use the diff tool on our files we'll simply open them and use split function to separate each text in places where '\\n' character appears and then run the diff function"
   ]
  },
  {
   "cell_type": "code",
   "execution_count": 15,
   "id": "b027f94d",
   "metadata": {
    "scrolled": false
   },
   "outputs": [
    {
     "name": "stdout",
     "output_type": "stream",
     "text": [
      "> 0 Shakespeare\n",
      "< 0 William Shakespeare\n",
      "> 19  * JAN — brat z tegoż zgromadzenia\n",
      "< 19  * JAN z tegoż zgromadzenia\n",
      "> 22  * ABRAHAM — służący \n",
      "> 23  * \n",
      "< 22  * ABRAHAM — służący Montekiego\n",
      "< 23  * APTEKARZ\n",
      "> 28  * PANI MONTEKI — małżonka Montekiego\n",
      "> 29  * PANI KAPULET — małżonka Kapuleta\n",
      "< 28  * PANI MONTEKI — małżonka Montekiego* PANI KAPULET — małżonka Kapuleta\n",
      "> 32  * Obywatele weroneńscy, różne płci obojej, liczący się do obu domów, maski, straż wojskowa i inne osoby.\n",
      "< 31  * Obywatele weroneńscy, różne osoby płci obojej, liczący się do przyjaciół obu domów, maski, straż wojskowa i inne osoby.\n",
      "> 37 Rzecz odbywa się przez większą część sztuki Weronie, przez część piątego aktu w Mantui.\n",
      "< 36 Rzecz odbywa się przez większą część sztuki w Weronie, przez część piątego aktu w Mantui.\n",
      "> 45 Dwa rody, zacne jednako i sławne —\n",
      "> 46 Tam, gdzie się rzecz ta rozgrywa, w Weronie,\n",
      "> 47 Do nowej zbrodni pchają złości dawne,\n",
      "< 44 zacne jednako i sławne —\n",
      "< 45 Tam, gdzie się rzecz ta rozgrywa, w Weronie,Do nowej zbrodni pchają złości dawne,\n",
      "> 50 Z łon tych dwu wrogów wzięło życie,\n",
      "> 51 Pod najstraszliwszą gwiazd, kochanków dwoje;\n",
      "< 48 Z łon tych dwu wrogów wzięło bowiem życie,\n",
      "< 49 Pod najstraszliwszą z gwiazd, kochanków dwoje;\n",
      "> 55 Tej ich miłości przebieg zbyt bolesny\n",
      "< 53 Tej miłości przebieg zbyt bolesny\n",
      "> 57 Aż zakończy dzieci zgon przedwczesny,\n",
      "< 55 Aż ją zakończy dzieci zgon przedwczesny,\n",
      "> 73 \n",
      "> 75 SAMSON\n",
      "> 77 Dalipan, Grzegorzu, nie będziem darli pierza.\n",
      "< 73 SAMSONDalipan, Grzegorzu, nie będziem darli \n",
      "> 107 Te psy z domu Montekich rozruchać mię mogą bardzo łatwo.\n",
      "< 103 Te psy z domu Montekich rozruchać mię bardzo łatwo.\n",
      "> 112 Rozruchać się tyle znaczy co ruszyć z miejsca; być walecznym jest to stać nieporuszenie: pojmuję więc, że skutkiem rozruchania się twego będzie - drapnięcie.\n",
      "< 108 Rozruchać się tyle znaczy co ruszyć się z miejsca; być walecznym jest to stać nieporuszenie: pojmuję więc, że skutkiem rozruchania się twego będzie - drapnięcie.\n",
      "> 117 Te psy z domu Montekich rozruchać mię mogą tylko do stania na miejscu. Będę jak mur dla każdego mężczyzny i każdej kobiety z tego domu.\n",
      "< 113 Te z domu Montekich mię mogą tylko do stania na miejscu. Będę jak mur każdego mężczyzny i każdej kobiety z domu.\n",
      "> 127 Prawda, dlatego to kobiety, jako najsłabsze, tulą się zawsze do muru. Ja też odtrącę od muru ludzi Montekich, a kobiety Montekich przyprę do muru.\n",
      "< 123 Prawda, dlatego to kobiety, jako najsłabsze, tulą się zawsze do muru. Ja też odtrącę od muru ludzi Montekich, a kobiety przyprę do muru.\n",
      "> 137 Mniejsza mi o to, będę nieubłagany. Pobiwszy ludzi, wywrę wściekłość na kobietach: rzeź między nimi sprawię.\n",
      "< 133 Mniejsza mi o to, będę Pobiwszy wywrę wściekłość na kobietach: rzeź między nimi sprawię.\n",
      "> 142 Rzeź kobiet chcesz przedsiębrać?SAMSON\n",
      "< 138 Rzeź kobiet chcesz przedsiębrać?\n",
      "< 139 \n",
      "< 140 \n",
      "< 141 SAMSON\n",
      "> 156 Mój giwer już dobyty: zaczep ich, ja stanę z tyłu.\n",
      "< 155 Mój giwer już dobyty: zaczep ich, ja z tyłu.\n",
      "> 161 Gwoli drapania?SAMSON\n",
      "< 160 Gwoli drapania?\n",
      "> 163 Nie bój się.\n",
      "< 162 \n",
      "< 163 SAMSON\n",
      "< 164 \n",
      "< 165 Nie się.\n",
      "> 173 Miejmy za niech oni zaczną.\n",
      "< 175 Miejmy prawo za sobą, niech zaczną.\n",
      "> 178 Marsa im nastawię przechodząc; niech go sobie, jak chcą, tłumaczą.\n",
      "< 180 Marsa im nastawię przechodząc; niech go jak chcą, tłumaczą.\n",
      "> 193 ABRAHAMCzy na nas się skrzywiłeś, mości panie?\n",
      "< 195 ABRAHAM\n",
      "< 196 \n",
      "< 197 Czy na nas się mości panie?\n",
      "> 198 / do Grzegorza /\n",
      "< 202 / Grzegorza /\n",
      "> 209 \n",
      "> 210 Nie, mości panie; nie skrzywiłem się na tylko skrzywiłem się tak sobie.\n",
      "< 214 Nie, mości nie skrzywiłem się na was, tylko skrzywiłem się tak sobie.\n",
      "< 217 GRZEGORZ\n",
      "> 244 / na stronie do Samsona /\n",
      "< 248 / stronie do /\n",
      "> 256 Kłamiesz.SAMSON\n",
      "< 260 Kłamiesz.\n",
      "> 258 Dobądźcie mieczów, jeśli macie serca. Grzegorzu, pamiętaj o swoim pchnięciu.\n",
      "< 262 \n",
      "< 263 SAMSON\n",
      "< 264 \n",
      "< 265 jeśli macie serca. Grzegorzu, pamiętaj o swoim pchnięciu.\n",
      "> 263 Odstąpcie, głupcy; miecze do pochew. Sami nie wiecie, co robicie.\n",
      "< 270 Odstąpcie, głupcy; schowajcie miecze do pochew. Sami nie wiecie, co robicie.\n",
      "> 276 BENWOLIOPrzywracam tylko pokój. Włóż miecz nazad\n",
      "< 283 BENWOLIO\n",
      "< 284 \n",
      "< 285 Przywracam tylko pokój. Włóż miecz nazad\n",
      "> 284 Szatana, wszystkich i ciebie.\n",
      "< 293 Szatana, wszystkich Montekich ciebie.\n",
      "> 292 Hola! berdyszów! pałek! Dalej po nich!\n",
      "< 301 Hola! berdyszów! pałek! Dalej po \n",
      "> 309 KAPULET\n",
      "< 318 \n",
      "> 331 \n",
      "> 333 KSIĄŻĘ\n",
      "> 335 Zapamiętali niesforni poddani,\n",
      "< 342 KSIĄŻĘZapamiętali niesforni poddani,\n",
      "> 338 Co swoich gniewów żar gasicie\n",
      "< 345 Co wściekłych swoich gniewów żar gasicie\n",
      "> 341 Z dłoni skrwawionych tę buntowniczą\n",
      "< 348 Z dłoni skrwawionych tę broń buntowniczą\n",
      "> 345 Przez was, Monteki oraz Kapulecie,\n",
      "> 346 już spokój miasta zakłóciły,\n",
      "> 347 Tak że poważni wiekiem i zasługą\n",
      "< 352 Przez was, Monteki oraz \n",
      "< 353 Trzykroć już spokój miasta zakłóciły,\n",
      "< 354 Tak poważni wiekiem i zasługą\n",
      "> 351 By zardzewiałym ostrzem zardzewiałe\n",
      "> 352 Niechęci wasze przecinać. Jeżelikiedyś waśń podobną,\n",
      "< 358 By zardzewiałym ostrzem \n",
      "< 359 Niechęci wasze przecinać. Jeżeli\n",
      "< 360 Wzniecicie waśń podobną,\n",
      "> 354 A teraz wszyscy ustąpcie niezwłocznie.\n",
      "< 362 A wszyscy ustąpcie niezwłocznie.\n",
      "> 356 Ty zaś, Monteki, przyjdziesz po \n",
      "< 364 Ty zaś, Monteki, przyjdziesz po południu\n",
      "> 358 Dalsza ma wola oznajmiona będzie.\n",
      "< 366 Dalsza ma wola będzie.\n",
      "> 367 Kto wszczął tę zwadę? Mów, synowcze,\n",
      "< 375 Kto wszczął tę nową zwadę? synowcze,\n",
      "> 369 \n",
      "> 371 BENWOLIO\n",
      "> 373 Nieprzyjaciela pachołcy\n",
      "< 379 BENWOLIONieprzyjaciela naszego pachołcy\n",
      "> 376 Wtem wpadł szalony z gołym mieczem,\n",
      "< 382 Wtem wpadł szalony Tybalt z gołym mieczem,\n",
      "> 386 PANI MONTEKI\n",
      "< 392 PANI \n",
      "> 392 BENWOLIOGodziną pierwej, nim wspaniałe słońce\n",
      "< 398 BENWOLIO\n",
      "< 399 \n",
      "< 400 pierwej, nim wspaniałe słońce\n",
      "> 397 Tam, już rano, syn wasz się przechadzał.\n",
      "< 405 Tam, już tak rano, syn wasz się przechadzał.\n",
      "> 400 I w najciemniejszej ukrył się gęstwinie.\n",
      "< 408 I w najciemniejszej ukrył gęstwinie.\n",
      "> 403 Jest najczynniejsze, samotni),\n",
      "< 411 Jest najczynniejsze, kiedyśmy samotni),\n",
      "> 412 Łzami mnożącego rosę,\n",
      "< 420 Łzami poranną mnożącego rosę,\n",
      "> 415 Wesołe słońce sprzed Aurory\n",
      "> 416 Zaczęło ściągać kotarę,\n",
      "> 417 On, uciekając od widoku światła,\n",
      "> 418 Co tchu zamykał się w swoim pokoju;\n",
      "< 423 Wesołe słońce sprzed łoża Aurory\n",
      "< 424 Zaczęło ściągać cienistą kotarę,\n",
      "< 425 On, uciekając widoku światła,\n",
      "< 426 Co tchu zamykał w swoim pokoju;\n",
      "> 420 sztuczną sobie ciemnicę utwarzał.\n",
      "> 421 W czarne bezdroża dusza jego zajdzie,Jeśli się na to lekarstwo nie znajdzie.\n",
      "< 428 I sztuczną sobie ciemnicę utwarzał.\n",
      "< 429 W czarne bezdroża dusza jego zajdzie,\n",
      "< 430 Jeśli się na to lekarstwo nie znajdzie.\n",
      "> 430 \n",
      "> 431 Nie znam i z niego wydobyć mogę.\n",
      "< 440 Nie znam i z niego wydobyć nie mogę.\n",
      "> 434 BENWOLIO\n",
      "> 436 Wybadywał żeś go jakim sposobem?\n",
      "< 443 BENWOLIOWybadywał go jakim sposobem?\n",
      "> 446 Nim światu wonny swój kielich \n",
      "> 447 I pełność swoją rozwinął przed słońcem.\n",
      "< 453 Nim światu wonny swój kielich roztoczył\n",
      "< 454 I pełność swoją przed słońcem.\n",
      "> 462 Obyś w tej sprawie, co nam serce rani,\n",
      "< 469 Obyś sprawie, nam serce rani,\n",
      "> 480 biła dopiero.\n",
      "< 487 Dziewiąta biła dopiero.\n",
      "> 486 Wloką się chwile. Moi–ż to rodzice\n",
      "> 487 Tak spiesznie w tamtą zboczyli \n",
      "< 493 Wloką chwile. Moi–ż to rodzice\n",
      "< 494 Tak spiesznie w tamtą zboczyli ulicę?\n",
      "> 497 tego, co je skraca.\n",
      "< 504 co je skraca.\n",
      "> 507                         Brak jej.BENWOLIO\n",
      "< 514                         Brak jej.\n",
      "< 515 \n",
      "< 516 \n",
      "< 517 BENWOLIO\n",
      "> 520 jest w gruncie tak srogą tyranką?\n",
      "< 530 Miłość jest w gruncie tak srogą tyranką?\n",
      "> 525 Niestety! Czemuż, z zasłoną na skroni,\n",
      "> 526 Miłość na oślep zawsze cel swój goni!Gdzież dziś jeść będziem? Ach! Był tu podobno\n",
      "< 535 Niestety! Czemuż, zasłoną na skroni,\n",
      "< 536 Miłość na oślep zawsze cel swój Gdzież dziś jeść będziem? Ach! Był tu podobno\n",
      "> 534 Jasna mgło! Zimny żarze! Martwy ruchu!Śnie bez snu! Taką to w sobie zawiłość,\n",
      "> 535 niełączność łączy moja miłość.\n",
      "< 544 Jasna mgło! Zimny żarze! Martwy ruchu!\n",
      "< 545 Śnie bez snu! Taką to w sobie zawiłość,\n",
      "< 546 Taką niełączność łączy moja miłość.\n",
      "> 558 Miłości nawet odbitkę działa?\n",
      "> 559 Dość mi już ciężył mój smutek, ty jego\n",
      "< 569 Miłości nawet przez odbitkę działa?\n",
      "< 570 Dość mi już ciężył smutek, ty jego\n",
      "> 562 Nie ulgą, ale nowym jest kamieniemDla mego serca. Miłość, przyjacielu,\n",
      "< 573 Nie ulgą, ale nowym jest kamieniem\n",
      "< 574 Dla mego Miłość, przyjacielu,\n",
      "> 564 To żar, w oku szczęśliwego płonie;\n",
      "< 576 To żar, co w oku szczęśliwego płonie;\n",
      "> 576 Gdybyś mą przyjaźń z kwitkiem tak zostawił.\n",
      "< 588 mą przyjaźń z kwitkiem tak zostawił.\n",
      "> 581 Ach! ja nie jestem tu, nie jestem sobą;\n",
      "> 582 To Romeo, co rozmawia z tobą.\n",
      "< 593 Ach! ja nie jestem tu, jestem sobą;\n",
      "< 594 To nie Romeo, co rozmawia z tobą.\n",
      "> 593 Mam–że wraz i mówić?\n",
      "< 605 Mam–że wraz jęczyć i mówić?\n",
      "> 598                         Nie jęczyć,\n",
      "< 610                         Nie \n",
      "> 600 to kochasz? Powiedz.\n",
      "< 612 Kogóż to kochasz? Powiedz.\n",
      "> 606 Pisać testament: będzie–ż to \n",
      "> 607 Dobre dla tego, kto jest w tak złym stanie?\n",
      "< 618 Pisać testament: będzie–ż to wezwanie\n",
      "< 619 Dobre tego, kto jest w tak złym stanie?\n",
      "> 611 BENWOLIOCelniem mierzył,\n",
      "> 612 Gdym to pomyślał, mi powierzył.\n",
      "< 623 \n",
      "< 624 \n",
      "< 625                         Celniem mierzył,\n",
      "< 626 Gdym pomyślał, nimeś mi powierzył.\n",
      "> 623                         W piękny cel trafić najłatwiej.ROMEO\n",
      "< 637                         W piękny cel trafić najłatwiej.\n",
      "> 625 A właśnieś chybił. Niczym tu kołczany\n",
      "< 639 \n",
      "< 640 ROMEO\n",
      "< 641 \n",
      "< 642 A właśnieś tu kołczany\n",
      "> 627 Pod twardą zbroją wstydliwości \n",
      "> 628 Grotów miłości wcale się nie boi;\n",
      "< 644 Pod zbroją wstydliwości swojej\n",
      "< 645 Grotów miłości się nie boi;\n",
      "> 631 Nawet jej złota nie zjedna.\n",
      "< 648 Nawet jej złota wszechwładztwo nie zjedna.\n",
      "> 634 Całe bogactwo, którego tak skąpi.\n",
      "< 651 Całe bogactwo, którego tak \n",
      "> 644 Tak jest; i skąpstwo to jest marnotrawstwem,\n",
      "> 645 Bo piękność, którą własna srogość \n",
      "< 661 Tak jest; skąpstwo to jest marnotrawstwem,\n",
      "< 662 Bo piękność, którą własna srogość strawia,\n",
      "> 664 BENWOLIO\n",
      "< 681 \n"
     ]
    }
   ],
   "source": [
    "f1 = open(\"text1.txt\", \"r\", encoding=\"utf-8\")\n",
    "f2 = open(\"text2.txt\", \"r\", encoding=\"utf-8\")\n",
    "T1 = f1.read().split(\"\\n\")\n",
    "T2 = f2.read().split(\"\\n\")\n",
    "\n",
    "diff(T1, T2)\n",
    "\n",
    "f1.close()\n",
    "f2.close()"
   ]
  },
  {
   "cell_type": "code",
   "execution_count": null,
   "id": "76d21702",
   "metadata": {},
   "outputs": [],
   "source": []
  }
 ],
 "metadata": {
  "kernelspec": {
   "display_name": "Python 3",
   "language": "python",
   "name": "python3"
  },
  "language_info": {
   "codemirror_mode": {
    "name": "ipython",
    "version": 3
   },
   "file_extension": ".py",
   "mimetype": "text/x-python",
   "name": "python",
   "nbconvert_exporter": "python",
   "pygments_lexer": "ipython3",
   "version": "3.8.8"
  }
 },
 "nbformat": 4,
 "nbformat_minor": 5
}
