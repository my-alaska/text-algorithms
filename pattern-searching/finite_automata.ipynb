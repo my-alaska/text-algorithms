{
 "cells": [
  {
   "cell_type": "markdown",
   "id": "2cead3d7",
   "metadata": {},
   "source": [
    "# Finite Automata pattern searching algorithm"
   ]
  },
  {
   "cell_type": "code",
   "execution_count": 2,
   "id": "13084e27",
   "metadata": {
    "ExecuteTime": {
     "end_time": "2024-01-08T18:41:02.732679Z",
     "start_time": "2024-01-08T18:41:02.708448500Z"
    }
   },
   "outputs": [],
   "source": [
    "# function for generating delta function for finite automata pattern searching algorithm\n",
    "\n",
    "def get_delta(pattern):\n",
    "    # for each state we want to create a dictionary that will tell us how each encountered letter changes the state\n",
    "    result = [{} for _ in range(len(pattern)+1)]\n",
    "    \n",
    "    # we'll also need a set of all letters appearing in the pattern\n",
    "    letters = set()\n",
    "    \n",
    "    # let's get those letters\n",
    "    for l in pattern:\n",
    "        if l not in letters:\n",
    "            letters.add(l)\n",
    "            \n",
    "    # now for each state...\n",
    "    for q in range(len(pattern) + 1):\n",
    "        \n",
    "        # ... we need to process each letter from our set...\n",
    "        for l in letters:\n",
    "        \n",
    "            # ... by iterating backwards through the processed part of the pattern... \n",
    "            k = min(len(pattern) + 1, q + 1)\n",
    "            while k > 0:\n",
    "                \n",
    "                # ... until we find a prefix that ends in the same way as the string defined by our processed state change...\n",
    "                if pattern[:k] == (pattern[:q] + l)[-k:]:\n",
    "                    break\n",
    "                k-=1\n",
    "            \n",
    "            # ... and our new state for this letter is the one corresponding to the said prefix\n",
    "            result[q][l] = k\n",
    "    \n",
    "    return result"
   ]
  },
  {
   "cell_type": "code",
   "execution_count": 3,
   "id": "b67d0b45",
   "metadata": {
    "ExecuteTime": {
     "end_time": "2024-01-08T18:41:02.887958900Z",
     "start_time": "2024-01-08T18:41:02.866506700Z"
    }
   },
   "outputs": [],
   "source": [
    "# finite automata algorithm function that takes a pattern and text \n",
    "# it returns indices at which this pattern starts in the text\n",
    "\n",
    "def finite_automata(pattern, text):\n",
    "    # we get our delta function...\n",
    "    delta = get_delta(pattern)\n",
    "    \n",
    "    # ... and length of the pattern\n",
    "    length = len(pattern)\n",
    "    \n",
    "    # we define our state\n",
    "    q = 0\n",
    "    \n",
    "    # and initialise result set\n",
    "    result = []\n",
    "\n",
    "    # for each letter in the text\n",
    "    for i in range(len(text)):\n",
    "        \n",
    "        # only if it's a valid state change for current state\n",
    "        if text[i] in delta[q]:\n",
    "            \n",
    "            # we change that state\n",
    "            q = delta[q][text[i]]\n",
    "            \n",
    "            # and if we managed to find the pattern string we add it at the end of the resulting list\n",
    "            if q == length:\n",
    "                result.append(i + 1 - q)\n",
    "        \n",
    "        # otherwise we reset the state\n",
    "        else:\n",
    "            q = 0\n",
    "\n",
    "    return result"
   ]
  },
  {
   "cell_type": "code",
   "execution_count": 4,
   "id": "b779f4e9",
   "metadata": {
    "ExecuteTime": {
     "end_time": "2024-01-08T18:41:03.048432500Z",
     "start_time": "2024-01-08T18:41:03.031176700Z"
    }
   },
   "outputs": [
    {
     "data": {
      "text/plain": "[4, 9]"
     },
     "execution_count": 4,
     "metadata": {},
     "output_type": "execute_result"
    }
   ],
   "source": [
    "finite_automata(\"abc\", \"abacabcadabc\")"
   ]
  },
  {
   "cell_type": "code",
   "execution_count": null,
   "outputs": [],
   "source": [],
   "metadata": {
    "collapsed": false
   },
   "id": "2ebc9020a64742eb"
  }
 ],
 "metadata": {
  "kernelspec": {
   "display_name": "Python 3 (ipykernel)",
   "language": "python",
   "name": "python3"
  },
  "language_info": {
   "codemirror_mode": {
    "name": "ipython",
    "version": 3
   },
   "file_extension": ".py",
   "mimetype": "text/x-python",
   "name": "python",
   "nbconvert_exporter": "python",
   "pygments_lexer": "ipython3",
   "version": "3.10.4"
  }
 },
 "nbformat": 4,
 "nbformat_minor": 5
}
