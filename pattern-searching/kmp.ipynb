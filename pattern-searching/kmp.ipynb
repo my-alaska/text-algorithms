{
 "cells": [
  {
   "cell_type": "markdown",
   "id": "17d49731",
   "metadata": {},
   "source": [
    "# Knuth Morris Pratt pattern searching algorithm"
   ]
  },
  {
   "cell_type": "code",
   "execution_count": 2,
   "id": "c188e989",
   "metadata": {},
   "outputs": [],
   "source": [
    "# function for generating prefix instructions for kmp algorithm\n",
    "\n",
    "def prefix(pattern):\n",
    "    \n",
    "    # we initialize the result\n",
    "    result = [0 for i in range(len(pattern))]\n",
    "    \n",
    "    # and a variable for navigating on the string\n",
    "    k = 0\n",
    "    \n",
    "    # for each letter(starting with the second one)...\n",
    "    for q in range(1, len(pattern)):\n",
    "        \n",
    "        # ... untill we reach it's beginning or find the same letter...\n",
    "        while k > 0 and pattern[k] != pattern[q]:\n",
    "            # we go back to the best prefix state\n",
    "            k = result[k - 1]\n",
    "        \n",
    "        # then if our new letter extends the prefix we increment k by 1\n",
    "        if pattern[k] == pattern[q]:\n",
    "            k += 1\n",
    "        \n",
    "        # we add k to the \n",
    "        result[q] = k\n",
    "        \n",
    "    # we get a list of instructions on how to travell back through 'states' to get the best prefix in case of mismatch\n",
    "    return result"
   ]
  },
  {
   "cell_type": "code",
   "execution_count": 3,
   "id": "878413dc",
   "metadata": {},
   "outputs": [],
   "source": [
    "# kmp function that takes a pattern and text \n",
    "# it returns indexes at which this pattern starts in the text\n",
    "\n",
    "def kmp(pattern, T):\n",
    "    # transition instruction\n",
    "    pi = prefix(pattern)\n",
    "    \n",
    "    # state\n",
    "    q = 0\n",
    "    \n",
    "    # self explanatory\n",
    "    result = []\n",
    "    \n",
    "    # for eaach letter...\n",
    "    for i in range(len(T)):\n",
    "        \n",
    "        # ... untill we find a longest prefix that matches our new letter... \n",
    "        while q > 0 and T[i] != pattern[q]:\n",
    "            # ... we change state so that our previous letters in the text are alligned with the longest prefix \n",
    "            # that is shorter than the current one(otherwise we wouldn't be in this loop)\n",
    "            q = pi[q - 1]\n",
    "        \n",
    "        # if we succeeded in finding such prefix or if we didn't have to...\n",
    "        if pattern[q] == T[i]:\n",
    "            # we're good to increment the state(in other words progress in our pattern seeking process)\n",
    "            q += 1\n",
    "        # otherwise we're back at the state 0\n",
    "            \n",
    "        # of course if we've found the pattern we need to add it to the result\n",
    "        if q == len(pattern):\n",
    "            result.append(i + 1 - q)\n",
    "            q = pi[q - 1]\n",
    "\n",
    "    return result"
   ]
  },
  {
   "cell_type": "code",
   "execution_count": 4,
   "id": "e3f85542",
   "metadata": {},
   "outputs": [
    {
     "data": {
      "text/plain": [
       "[4, 14]"
      ]
     },
     "execution_count": 4,
     "metadata": {},
     "output_type": "execute_result"
    }
   ],
   "source": [
    "kmp(\"abc\",\"abacabcabdabadabc\")"
   ]
  }
 ],
 "metadata": {
  "kernelspec": {
   "display_name": "Python 3 (ipykernel)",
   "language": "python",
   "name": "python3"
  },
  "language_info": {
   "codemirror_mode": {
    "name": "ipython",
    "version": 3
   },
   "file_extension": ".py",
   "mimetype": "text/x-python",
   "name": "python",
   "nbconvert_exporter": "python",
   "pygments_lexer": "ipython3",
   "version": "3.10.4"
  }
 },
 "nbformat": 4,
 "nbformat_minor": 5
}
