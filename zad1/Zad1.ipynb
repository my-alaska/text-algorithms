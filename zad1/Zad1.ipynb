{
 "cells": [
  {
   "cell_type": "markdown",
   "id": "cc072765",
   "metadata": {},
   "source": [
    "# Naive, Finite Automata and KMP pattern finding algorithms"
   ]
  },
  {
   "cell_type": "code",
   "execution_count": 1,
   "id": "55dfc44f",
   "metadata": {},
   "outputs": [],
   "source": [
    "import time\n",
    "import matplotlib.pyplot as plt"
   ]
  },
  {
   "cell_type": "markdown",
   "id": "7e2d7aec",
   "metadata": {},
   "source": [
    "## Naive algorithm"
   ]
  },
  {
   "cell_type": "code",
   "execution_count": 2,
   "id": "ec6dd8b9",
   "metadata": {},
   "outputs": [],
   "source": [
    "# naive matching agorithm\n",
    "def naiwny_sercz_2(p, T):\n",
    "    m = len(p)\n",
    "    result = []\n",
    "    t0 = time.time()\n",
    "    for i in range(len(T)):\n",
    "        if T[i : i + m] == p:\n",
    "            result.append(i)\n",
    "    t1 = time.time() - t0\n",
    "    return result, t1"
   ]
  },
  {
   "cell_type": "markdown",
   "id": "e06ef1ae",
   "metadata": {},
   "source": [
    "\n"
   ]
  },
  {
   "cell_type": "markdown",
   "id": "533cd62d",
   "metadata": {},
   "source": [
    "## Finite Automata\n",
    "\n",
    "### Delta Function"
   ]
  },
  {
   "cell_type": "code",
   "execution_count": 3,
   "id": "4288ef45",
   "metadata": {},
   "outputs": [],
   "source": [
    "# generating a delta function for finite automata algorithm\n",
    "def get_delta(p):\n",
    "    result = [{} for i in range(len(p) + 1)]\n",
    "    letters = set()\n",
    "    for l in p:\n",
    "        if l not in letters:\n",
    "            letters.add(l)\n",
    "    for q in range(len(p) + 1):\n",
    "        for l in letters:\n",
    "            k = min(len(p) + 1, q + 1)\n",
    "            while k > 0:\n",
    "                if p[:k] == (p[:q] + l)[-k:]:\n",
    "                    break\n",
    "                k -= 1\n",
    "            result[q][l] = k\n",
    "    return result"
   ]
  },
  {
   "cell_type": "markdown",
   "id": "6a0e5e24",
   "metadata": {},
   "source": [
    "### Main algorithm"
   ]
  },
  {
   "cell_type": "code",
   "execution_count": 4,
   "id": "33d2b1ab",
   "metadata": {},
   "outputs": [],
   "source": [
    "# finite automata algorithm\n",
    "def finite_automata(p, T):\n",
    "    delta = get_delta(p)\n",
    "    length = len(p)\n",
    "    q = 0\n",
    "    result = []\n",
    "    t0 = time.time()\n",
    "    for i in range(len(T)):\n",
    "        if T[i] in delta[q]:\n",
    "            q = delta[q][T[i]]\n",
    "            if q == length:\n",
    "                result.append(i + 1 - q)\n",
    "        else:\n",
    "            q = 0\n",
    "\n",
    "    t1 = time.time() - t0\n",
    "    return result, t1"
   ]
  },
  {
   "cell_type": "markdown",
   "id": "ff66097f",
   "metadata": {},
   "source": [
    " \n",
    " \n",
    " \n",
    " "
   ]
  },
  {
   "cell_type": "markdown",
   "id": "f1c3c092",
   "metadata": {},
   "source": [
    "## KMP algorithm\n",
    "\n",
    "### Prefix Function"
   ]
  },
  {
   "cell_type": "code",
   "execution_count": 5,
   "id": "d4ff11ae",
   "metadata": {},
   "outputs": [],
   "source": [
    "# generating prefix function for kmp algorithm\n",
    "def prefix(p):\n",
    "    result = [0]\n",
    "    k = 0\n",
    "    for q in range(1, len(p)):\n",
    "        while k > 0 and p[k] != p[q]:\n",
    "            k = result[k - 1]\n",
    "        if p[k] == p[q]:\n",
    "            k += 1\n",
    "        result.append(k)\n",
    "    return result"
   ]
  },
  {
   "cell_type": "markdown",
   "id": "d8b7f94a",
   "metadata": {},
   "source": [
    "### Main algorithm"
   ]
  },
  {
   "cell_type": "code",
   "execution_count": 6,
   "id": "24398749",
   "metadata": {},
   "outputs": [],
   "source": [
    "# kmp algorithm\n",
    "def kmp(p, T):\n",
    "    pi = prefix(p)\n",
    "    q = 0\n",
    "    result = []\n",
    "    t0 = time.time()\n",
    "    for i in range(len(T)):\n",
    "        while q > 0 and T[i] != p[q]:\n",
    "            q = pi[q - 1]\n",
    "        if p[q] == T[i]:\n",
    "            q += 1\n",
    "        if q == len(p):\n",
    "            result.append(i + 1 - q)\n",
    "            q = pi[q - 1]\n",
    "    t1 = time.time() - t0\n",
    "    return result, t1"
   ]
  },
  {
   "cell_type": "markdown",
   "id": "4bdad48a",
   "metadata": {},
   "source": [
    "\n"
   ]
  },
  {
   "cell_type": "markdown",
   "id": "e701db14",
   "metadata": {},
   "source": [
    "## Comparing algorithms"
   ]
  },
  {
   "cell_type": "code",
   "execution_count": 7,
   "id": "a9a5e39f",
   "metadata": {},
   "outputs": [],
   "source": [
    "text1 = open(\"1997_714.txt\", \"r\", encoding=\"utf8\").read()"
   ]
  },
  {
   "cell_type": "code",
   "execution_count": 8,
   "id": "81b948a8",
   "metadata": {},
   "outputs": [],
   "source": [
    "p = \"art\"\n",
    "resultA1 = naiwny_sercz_2(p, text1)\n",
    "resultA2 = finite_automata(p, text1)\n",
    "resultA3 = kmp(p, text1)"
   ]
  },
  {
   "cell_type": "code",
   "execution_count": 9,
   "id": "a6937ba1",
   "metadata": {
    "scrolled": false
   },
   "outputs": [
    {
     "name": "stdout",
     "output_type": "stream",
     "text": [
      "time for naive: 0.04285s\n",
      "time for fa:    0.03291s\n",
      "rime for kmp:   0.06483s\n"
     ]
    }
   ],
   "source": [
    "print(\"time for naive: \", round(resultA1[1], 5), \"s\", sep=\"\")\n",
    "print(\"time for fa:    \", round(resultA2[1], 5), \"s\", sep=\"\")\n",
    "print(\"rime for kmp:   \", round(resultA3[1], 5), \"s\", sep=\"\")\n",
    "if resultA1[0] != resultA2[0] or resultA1[0] != resultA3[0]:\n",
    "    print(\"błąd\")"
   ]
  },
  {
   "cell_type": "code",
   "execution_count": 10,
   "id": "f69db6a0",
   "metadata": {},
   "outputs": [
    {
     "data": {
      "image/png": "[encoded data removed]",
      "text/plain": [
       "<Figure size 432x288 with 1 Axes>"
      ]
     },
     "metadata": {
      "needs_background": "light"
     },
     "output_type": "display_data"
    }
   ],
   "source": [
    "left = [1, 2, 3]\n",
    "height = [resultA1[1], resultA2[1], resultA3[1]]\n",
    "tick_label = [\"Naive\", \"FA\", \"KMP\"]\n",
    "plt.bar(left, height, tick_label=tick_label, width=0.4, color=[\"mediumslateblue\"])\n",
    "plt.xlabel(\"algorithms\")\n",
    "plt.ylabel(\"time\")\n",
    "plt.title(\"comparing algorithms pt.1\")\n",
    "plt.show()"
   ]
  },
  {
   "cell_type": "markdown",
   "id": "bc8dfc73",
   "metadata": {},
   "source": [
    "\n"
   ]
  },
  {
   "cell_type": "markdown",
   "id": "313b5443",
   "metadata": {},
   "source": [
    "## Comparing algorithms pt. 2"
   ]
  },
  {
   "cell_type": "code",
   "execution_count": 11,
   "id": "65ef8ebd",
   "metadata": {},
   "outputs": [],
   "source": [
    "text2 = open(\"passages-head.tsv\", \"r\", encoding=\"utf8\").read()"
   ]
  },
  {
   "cell_type": "code",
   "execution_count": 12,
   "id": "028cb462",
   "metadata": {},
   "outputs": [],
   "source": [
    "p2 = \"Ukraina\"\n",
    "resultB1 = naiwny_sercz_2(p2, text2)\n",
    "resultB2 = finite_automata(p2, text2)\n",
    "resultB3 = kmp(p2, text2)"
   ]
  },
  {
   "cell_type": "code",
   "execution_count": 13,
   "id": "3b84b415",
   "metadata": {},
   "outputs": [
    {
     "name": "stdout",
     "output_type": "stream",
     "text": [
      "time for naive: 15.25163s\n",
      "time for fa:    11.03897s\n",
      "rime for kmp:   16.4969s\n"
     ]
    }
   ],
   "source": [
    "print(\"time for naive: \", round(resultB1[1], 5), \"s\", sep=\"\")\n",
    "print(\"time for fa:    \", round(resultB2[1], 5), \"s\", sep=\"\")\n",
    "print(\"rime for kmp:   \", round(resultB3[1], 5), \"s\", sep=\"\")\n",
    "if resultB1[0] != resultB2[0] or resultB1[0] != resultB3[0]:\n",
    "    print(\"błąd\")"
   ]
  },
  {
   "cell_type": "code",
   "execution_count": 14,
   "id": "f1eb9a0a",
   "metadata": {},
   "outputs": [
    {
     "data": {
      "image/png": "[encoded data removed]",
      "text/plain": [
       "<Figure size 432x288 with 1 Axes>"
      ]
     },
     "metadata": {
      "needs_background": "light"
     },
     "output_type": "display_data"
    }
   ],
   "source": [
    "left = [1, 2, 3]\n",
    "height = [resultB1[1], resultB2[1], resultB3[1]]\n",
    "tick_label = [\"Naive\", \"FA\", \"KMP\"]\n",
    "plt.bar(left, height, tick_label=tick_label, width=0.4, color=[\"mediumslateblue\"])\n",
    "plt.xlabel(\"algorithms\")\n",
    "plt.ylabel(\"time\")\n",
    "plt.title(\"comparing algorithms pt.2\")\n",
    "plt.show()"
   ]
  },
  {
   "cell_type": "markdown",
   "id": "014e257b",
   "metadata": {},
   "source": [
    "\n"
   ]
  },
  {
   "cell_type": "markdown",
   "id": "bae3eb04",
   "metadata": {},
   "source": [
    "## Worst case for naive algorithm"
   ]
  },
  {
   "cell_type": "code",
   "execution_count": 15,
   "id": "0a5c9567",
   "metadata": {
    "scrolled": false
   },
   "outputs": [],
   "source": [
    "testText = \"a\" * 10000000\n",
    "ex_p = \"a\" * 30000\n",
    "check_naive = naiwny_sercz_2(ex_p, testText)\n",
    "check_fa = finite_automata(ex_p, testText)\n",
    "check_kmp = kmp(ex_p, testText)"
   ]
  },
  {
   "cell_type": "code",
   "execution_count": 16,
   "id": "c597a9d5",
   "metadata": {},
   "outputs": [
    {
     "name": "stdout",
     "output_type": "stream",
     "text": [
      "23.812530517578125\n",
      "3.2221457958221436\n",
      "5.16250467300415\n"
     ]
    }
   ],
   "source": [
    "print(check_naive[1])\n",
    "print(check_fa[1])\n",
    "print(check_kmp[1])"
   ]
  },
  {
   "cell_type": "code",
   "execution_count": 17,
   "id": "d6765116",
   "metadata": {},
   "outputs": [
    {
     "data": {
      "image/png": "[encoded data removed]",
      "text/plain": [
       "<Figure size 432x288 with 1 Axes>"
      ]
     },
     "metadata": {
      "needs_background": "light"
     },
     "output_type": "display_data"
    }
   ],
   "source": [
    "left = [1, 2, 3]\n",
    "height = [check_naive[1], check_fa[1], check_kmp[1]]\n",
    "tick_label = [\"Naive\", \"FA\", \"KMP\"]\n",
    "plt.bar(left, height, tick_label=tick_label, width=0.4, color=[\"mediumslateblue\"])\n",
    "plt.xlabel(\"algorithms\")\n",
    "plt.ylabel(\"time\")\n",
    "plt.title(\"worst case for naive algorithm\")\n",
    "plt.show()"
   ]
  },
  {
   "cell_type": "markdown",
   "id": "2571e616",
   "metadata": {},
   "source": [
    "\n"
   ]
  },
  {
   "cell_type": "markdown",
   "id": "e4417d93",
   "metadata": {},
   "source": [
    "## delta and prefix function comparison"
   ]
  },
  {
   "cell_type": "code",
   "execution_count": 18,
   "id": "52be11b0",
   "metadata": {},
   "outputs": [],
   "source": [
    "worst_pattern = \"abcdefghijklmnoprstuwxyz\" * 20"
   ]
  },
  {
   "cell_type": "code",
   "execution_count": 19,
   "id": "c75eae9b",
   "metadata": {},
   "outputs": [],
   "source": [
    "start1 = time.time()\n",
    "get_delta(worst_pattern)\n",
    "end1 = time.time()\n",
    "\n",
    "start2 = time.time()\n",
    "prefix(worst_pattern)\n",
    "end2 = time.time()"
   ]
  },
  {
   "cell_type": "code",
   "execution_count": 20,
   "id": "5486f719",
   "metadata": {},
   "outputs": [
    {
     "name": "stdout",
     "output_type": "stream",
     "text": [
      "worst case delta generating:  1.207590818405s\n",
      "worst case prefix generating: 0.0s\n"
     ]
    }
   ],
   "source": [
    "print(\"worst case delta generating:  \", round(end1 - start1, 12), \"s\", sep=\"\")\n",
    "print(\"worst case prefix generating: \", round(end2 - start2, 12), \"s\", sep=\"\")"
   ]
  },
  {
   "cell_type": "code",
   "execution_count": 21,
   "id": "7dc05ca6",
   "metadata": {},
   "outputs": [
    {
     "data": {
      "image/png": "[encoded data removed]",
      "text/plain": [
       "<Figure size 432x288 with 1 Axes>"
      ]
     },
     "metadata": {
      "needs_background": "light"
     },
     "output_type": "display_data"
    }
   ],
   "source": [
    "left = [1, 2]\n",
    "height = [end1 - start1, end2 - start2]\n",
    "tick_label = [\"delta\", \"prefix\"]\n",
    "plt.bar(left, height, tick_label=tick_label, width=0.4, color=[\"mediumslateblue\"])\n",
    "plt.xlabel(\"function\")\n",
    "plt.ylabel(\"time\")\n",
    "plt.title(\"delta and prefix function comparison\")\n",
    "plt.show()"
   ]
  }
 ],
 "metadata": {
  "kernelspec": {
   "display_name": "Python 3",
   "language": "python",
   "name": "python3"
  },
  "language_info": {
   "codemirror_mode": {
    "name": "ipython",
    "version": 3
   },
   "file_extension": ".py",
   "mimetype": "text/x-python",
   "name": "python",
   "nbconvert_exporter": "python",
   "pygments_lexer": "ipython3",
   "version": "3.8.8"
  }
 },
 "nbformat": 4,
 "nbformat_minor": 5
}
