{
 "cells": [
  {
   "metadata": {
    "ExecuteTime": {
     "end_time": "2025-04-09T16:25:34.235927Z",
     "start_time": "2025-04-09T16:25:34.229751Z"
    }
   },
   "cell_type": "code",
   "source": [
    "from heapq import heappush, heappop\n",
    "from bitarray import bitarray\n",
    "import time\n",
    "import os"
   ],
   "id": "efabfc095aa79aa9",
   "outputs": [],
   "execution_count": 1
  },
  {
   "cell_type": "code",
   "id": "initial_id",
   "metadata": {
    "collapsed": true,
    "ExecuteTime": {
     "end_time": "2025-04-09T16:25:34.243643Z",
     "start_time": "2025-04-09T16:25:34.238931Z"
    }
   },
   "source": [
    "def huffman(letter_counts):\n",
    "    # Define a Node class to store each tree element\n",
    "    class Node:\n",
    "        def __init__(self, weight, left=None, right=None, letter=None):\n",
    "            self.weight = weight    # Total frequency or weight\n",
    "            self.left = left        # Left child (Node)\n",
    "            self.right = right      # Right child (Node)\n",
    "            self.letter = letter    # Character/letter if this is a leaf node\n",
    "\n",
    "        # Define comparison operators so the heapq module can sort Nodes\n",
    "        def __lt__(self, other):  # < operator for heapq to work properly\n",
    "            return self.weight < other.weight\n",
    "\n",
    "        def __gt__(self, other):  # Optional, for completeness\n",
    "            return self.weight > other.weight\n",
    "\n",
    "        def __ge__(self, other):  # Optional, not needed by heapq\n",
    "            return self.weight >= other.weight\n",
    "\n",
    "    # Initialize a heap with leaf nodes\n",
    "    result = []\n",
    "    for letter, weight in letter_counts:\n",
    "        heappush(result, Node(weight, letter=letter))\n",
    "\n",
    "    # Build the Huffman tree by combining the two lowest-weight nodes\n",
    "    while len(result) > 1:\n",
    "        element_1 = heappop(result)\n",
    "        element_2 = heappop(result)\n",
    "        # Create a new internal node with combined weight and push it back\n",
    "        heappush(result, Node(element_1.weight + element_2.weight, element_1, element_2))\n",
    "\n",
    "    result_dict = {}\n",
    "\n",
    "    # Recursive function to traverse the tree and assign bit codes\n",
    "    def rec(node, code):\n",
    "        nonlocal result_dict\n",
    "        if node.letter is not None:\n",
    "            # Leaf node: assign the accumulated code\n",
    "            result_dict[node.letter] = code\n",
    "            return\n",
    "        # Internal node: recurse left with 0, right with 1\n",
    "        lcode = code.copy()\n",
    "        rcode = code.copy()\n",
    "        lcode.append(0)\n",
    "        rcode.append(1)\n",
    "        rec(node.left, lcode)\n",
    "        rec(node.right, rcode)\n",
    "\n",
    "    # Start recursive traversal from the root of the Huffman tree\n",
    "    empty_code = bitarray()\n",
    "    rec(result[0], empty_code)\n",
    "\n",
    "    return result_dict, result[0]"
   ],
   "outputs": [],
   "execution_count": 2
  },
  {
   "metadata": {
    "ExecuteTime": {
     "end_time": "2025-04-09T16:32:54.703692Z",
     "start_time": "2025-04-09T16:32:54.699130Z"
    }
   },
   "cell_type": "code",
   "source": "huffman([(\"a\",100), (\"b\", 100), (\"c\", 100),(\"e\", 100),(\"d\", 100),(\"f\", 100)])",
   "id": "f6e654da2ce74c3",
   "outputs": [
    {
     "data": {
      "text/plain": [
       "({'b': bitarray('00'),\n",
       "  'e': bitarray('01'),\n",
       "  'f': bitarray('100'),\n",
       "  'd': bitarray('101'),\n",
       "  'a': bitarray('110'),\n",
       "  'c': bitarray('111')},\n",
       " <__main__.huffman.<locals>.Node at 0x25484e0b850>)"
      ]
     },
     "execution_count": 30,
     "metadata": {},
     "output_type": "execute_result"
    }
   ],
   "execution_count": 30
  },
  {
   "metadata": {
    "ExecuteTime": {
     "end_time": "2025-04-09T16:51:33.441519Z",
     "start_time": "2025-04-09T16:51:33.436366Z"
    }
   },
   "cell_type": "code",
   "source": [
    "def encode(string):\n",
    "    # Count the frequency of each character in the string\n",
    "    no_letters = {}\n",
    "    for letter in string:\n",
    "        if letter not in no_letters.keys():\n",
    "            no_letters[letter] = 0\n",
    "        no_letters[letter] += 1\n",
    "\n",
    "    # Create a sorted list of (letter, count) pairs\n",
    "    letter_counts = list(no_letters.items())\n",
    "    letter_counts.sort(key=lambda l: l[0])  # Sorting by letter for consistency\n",
    "\n",
    "    # The first byte of result array is the alphabet size\n",
    "    result = bitarray()\n",
    "    result.frombytes(\n",
    "        len(letter_counts).to_bytes(1, byteorder=\"big\", signed=False)\n",
    "    )\n",
    "\n",
    "    # Then for all letters in the alphabet...\n",
    "    l, w = bitarray(), bitarray()\n",
    "    for letter, count in letter_counts:\n",
    "        # Encode the letter as 1 byte\n",
    "        l.frombytes(letter.encode(\"utf-8\"))\n",
    "        # Encode count as 4 bytes\n",
    "        w.frombytes(count.to_bytes(4, byteorder=\"big\", signed=False))\n",
    "        # and append them to the result\n",
    "        result += l + w\n",
    "        l.clear()\n",
    "        w.clear()\n",
    "\n",
    "    # Generate Huffman dictionary from letter frequencies\n",
    "    huffman_dict, _ = huffman(letter_counts)\n",
    "\n",
    "    # Encode the actual string using the Huffman codes\n",
    "    for letter in string:\n",
    "        result += huffman_dict[letter]  # Append Huffman bit sequence for each letter\n",
    "\n",
    "    return result  # Final encoded bitarray\n"
   ],
   "id": "9e4c205d7b8d9b6f",
   "outputs": [],
   "execution_count": 78
  },
  {
   "metadata": {
    "ExecuteTime": {
     "end_time": "2025-04-09T16:51:38.766191Z",
     "start_time": "2025-04-09T16:51:38.761551Z"
    }
   },
   "cell_type": "code",
   "source": [
    "def decode(bit_arr):\n",
    "    # Read the alphabet size stored as the first byte\n",
    "    n = int.from_bytes(bit_arr[:8], byteorder=\"big\", signed=False)\n",
    "    bit_arr = bit_arr[8:]\n",
    "\n",
    "    # Reconstruct the frequency table using the rest of the encoding bit array\n",
    "    letter_counts = []\n",
    "    for i in range(n):\n",
    "        # First encode one byte that represent the letter\n",
    "        letter = bit_arr[:8].tobytes().decode(\"utf-8\")\n",
    "        bit_arr = bit_arr[8:]\n",
    "\n",
    "        # Then next 4 bytes represent the number of its occurrences in original text\n",
    "        count = int.from_bytes(bit_arr[:32], byteorder=\"big\", signed=False)\n",
    "        bit_arr = bit_arr[32:]\n",
    "        letter_counts.append([letter, count])\n",
    "\n",
    "    # Rebuild the Huffman tree using the frequencies\n",
    "    huffman_dict, root = huffman(letter_counts)\n",
    "\n",
    "    # Decode the remaining bits using the Huffman tree\n",
    "    i = 0\n",
    "    result = \"\"\n",
    "    while i < len(bit_arr):\n",
    "        node = root\n",
    "        # Traverse the tree until a leaf node is found\n",
    "        while node.letter is None:\n",
    "            if bit_arr[i] == 1:\n",
    "                node = node.right\n",
    "            else:\n",
    "                node = node.left\n",
    "            i += 1\n",
    "        result += node.letter  # Append the decoded character\n",
    "\n",
    "    return result  # Final decoded string"
   ],
   "id": "fa9bd27e0595b9cd",
   "outputs": [],
   "execution_count": 80
  },
  {
   "metadata": {
    "ExecuteTime": {
     "end_time": "2025-04-09T16:51:38.951444Z",
     "start_time": "2025-04-09T16:51:38.947698Z"
    }
   },
   "cell_type": "code",
   "source": "print(decode(encode(\"Trudne sysopy w tym tygodniu bardzo\")))",
   "id": "401dbdc2b87dbf5a",
   "outputs": [
    {
     "name": "stdout",
     "output_type": "stream",
     "text": [
      "Trudne sysopy w tym tygodniu bardzo\n"
     ]
    }
   ],
   "execution_count": 81
  },
  {
   "metadata": {},
   "cell_type": "code",
   "outputs": [],
   "execution_count": null,
   "source": "",
   "id": "cc61f80ea90c53bf"
  }
 ],
 "metadata": {
  "kernelspec": {
   "display_name": "Python 3",
   "language": "python",
   "name": "python3"
  },
  "language_info": {
   "codemirror_mode": {
    "name": "ipython",
    "version": 2
   },
   "file_extension": ".py",
   "mimetype": "text/x-python",
   "name": "python",
   "nbconvert_exporter": "python",
   "pygments_lexer": "ipython2",
   "version": "2.7.6"
  }
 },
 "nbformat": 4,
 "nbformat_minor": 5
}
