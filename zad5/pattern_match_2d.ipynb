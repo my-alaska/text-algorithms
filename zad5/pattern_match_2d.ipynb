{
 "cells": [
  {
   "cell_type": "markdown",
   "id": "7762dacb",
   "metadata": {},
   "source": [
    "# Two Dimensional Pattern Matching\n",
    "\n"
   ]
  },
  {
   "cell_type": "code",
   "execution_count": 1,
   "id": "16ccc730",
   "metadata": {},
   "outputs": [],
   "source": [
    "from queue import Queue\n",
    "from PIL import Image\n",
    "from time import perf_counter\n",
    "import numpy as np"
   ]
  },
  {
   "cell_type": "markdown",
   "id": "5a3fcf8a",
   "metadata": {},
   "source": [
    "# First we need to find a way of building the automaton\n",
    "### To do it we will use a Node class"
   ]
  },
  {
   "cell_type": "code",
   "execution_count": 2,
   "id": "1af15b97",
   "metadata": {},
   "outputs": [],
   "source": [
    "class Node:\n",
    "\n",
    "    def __init__(self, data=0, parent=None, terminal=False):\n",
    "        # each node will store the root of the trie it belongs to\n",
    "        # We will use the root to kep track of the number of nodes in the tree\n",
    "        # we will create multiple tries so we can't simply use a static variable\n",
    "        if parent == None:\n",
    "            self.root = self\n",
    "        else:\n",
    "            self.root = parent.root\n",
    "        # data field will store the node's letter if the node isn't the root\n",
    "        # otherwise it will store the number nodes in the tree\n",
    "        self.data = data\n",
    "        # it might be hard to believe but this field stores the reference to node's parent node\n",
    "        self.parent = parent\n",
    "        # boolean value - is the node a leaf\n",
    "        self.terminal = terminal\n",
    "        # children dict\n",
    "        self.children = {}\n",
    "        # transitions will be automata's vertexes\n",
    "        self.transition = {}\n",
    "        self.id = self.root.data\n",
    "        self.root.data += 1"
   ]
  },
  {
   "cell_type": "markdown",
   "id": "730fd8c8",
   "metadata": {},
   "source": [
    "### Then we'll build the trie structure that we will base our automaton on"
   ]
  },
  {
   "cell_type": "code",
   "execution_count": 3,
   "id": "8a397fbc",
   "metadata": {},
   "outputs": [],
   "source": [
    "# Sligthly modified code from the lecture\n",
    "def create_trie(patterns):\n",
    "    root = Node()\n",
    "    for pattern in patterns:\n",
    "        node = root\n",
    "        for i in range(len(pattern)):\n",
    "            if pattern[i] in node.children:\n",
    "                node = node.children[pattern[i]]\n",
    "            else:\n",
    "                new_node = Node(pattern[i], node, False)\n",
    "                node.children[pattern[i]] = new_node\n",
    "                node = new_node\n",
    "            if i == len(pattern) - 1:\n",
    "                node.terminal = True\n",
    "    return root"
   ]
  },
  {
   "cell_type": "markdown",
   "id": "9d4df30f",
   "metadata": {},
   "source": [
    "### To create an automaton and to process the text we'll need to extract some information about it. Specifically the alphabet and length of the longest line"
   ]
  },
  {
   "cell_type": "code",
   "execution_count": 4,
   "id": "65021459",
   "metadata": {},
   "outputs": [],
   "source": [
    "def get_text_info(text):\n",
    "    alphabet = set()\n",
    "    max_len = 0\n",
    "    for line in text:\n",
    "        max_len = max(\n",
    "            len(line), max_len\n",
    "        )  # we'll need this for data with different line lengths\n",
    "        for letter in line:\n",
    "            alphabet.add(letter)\n",
    "    return alphabet, max_len"
   ]
  },
  {
   "cell_type": "markdown",
   "id": "d8de08f5",
   "metadata": {},
   "source": [
    "### After that we'll only need to create the automaton out of the trie structure"
   ]
  },
  {
   "cell_type": "code",
   "execution_count": 5,
   "id": "379d4417",
   "metadata": {},
   "outputs": [],
   "source": [
    "# Modified code from the lecture\n",
    "def multi_sma(root, alphabet):\n",
    "\n",
    "    result = []\n",
    "    if root.terminal:\n",
    "        result.append(root)\n",
    "\n",
    "    t = [{} for i in range(root.data + 1)]\n",
    "\n",
    "    queue = Queue()\n",
    "    for child in root.children.values():\n",
    "        queue.put(child)\n",
    "    for l in alphabet:\n",
    "        root.transition[l] = root\n",
    "        t[root.id][l] = root.id\n",
    "\n",
    "    while not queue.empty():\n",
    "\n",
    "        node = queue.get()\n",
    "        parent = node.parent\n",
    "        letter = node.data\n",
    "\n",
    "        for child in node.children.values():\n",
    "            queue.put(child)\n",
    "\n",
    "        prev_node = parent.transition[letter]\n",
    "        parent.transition[letter] = node\n",
    "        t[parent.id][letter] = node.id\n",
    "\n",
    "        if node.terminal or prev_node.terminal:\n",
    "            result.append(node.id)\n",
    "\n",
    "        for l in alphabet:\n",
    "            if l in prev_node.children:\n",
    "                node.transition[l] = prev_node.children[l]\n",
    "                t[node.id][l] = prev_node.children[l].id\n",
    "            else:\n",
    "                node.transition[l] = prev_node.transition[l]\n",
    "                t[node.id][l] = t[prev_node.id][l]\n",
    "\n",
    "    return t, result"
   ]
  },
  {
   "cell_type": "markdown",
   "id": "3aaf0965",
   "metadata": {},
   "source": [
    "### We will also need a function that will translate the text onto array of automata states"
   ]
  },
  {
   "cell_type": "code",
   "execution_count": 6,
   "id": "2c83dc60",
   "metadata": {},
   "outputs": [],
   "source": [
    "def create_state_array(arr, alphabet, transition, max_len=None):\n",
    "    if max_len is None:\n",
    "        max_len = len(arr[0])\n",
    "\n",
    "    state_array = [[None] * max_len for i in range(len(arr))]\n",
    "    for j in range(max_len):\n",
    "        state = 0\n",
    "        for i in range(len(arr)):\n",
    "            if len(arr[i]) > j:\n",
    "                state = transition[state][arr[i][j]]\n",
    "            else:\n",
    "                state = 0\n",
    "            state_array[i][j] = state\n",
    "\n",
    "    return state_array"
   ]
  },
  {
   "cell_type": "markdown",
   "id": "d44e6578",
   "metadata": {},
   "source": [
    "### And a function that will translate our set of patterns to sequence of terminal states \n",
    "(We'll try to find this sequence in the array of states generatet by the previous function)"
   ]
  },
  {
   "cell_type": "code",
   "execution_count": 7,
   "id": "b0eed3ee",
   "metadata": {},
   "outputs": [],
   "source": [
    "def get_pattern_states(patterns, transition):\n",
    "    result = []\n",
    "    for pattern in patterns:\n",
    "        state = 0\n",
    "        for letter in pattern:\n",
    "            state = transition[state][letter]\n",
    "        result.append(state)\n",
    "    return result"
   ]
  },
  {
   "cell_type": "markdown",
   "id": "b2a4c5a7",
   "metadata": {},
   "source": [
    "# With these tools we can proceed to solving given tasks"
   ]
  },
  {
   "cell_type": "markdown",
   "id": "4c8a9e77",
   "metadata": {},
   "source": [
    "### Task 1\n",
    "To solve task 1 we'll simply put our previous functions to use"
   ]
  },
  {
   "cell_type": "code",
   "execution_count": 8,
   "id": "ca20d6e7",
   "metadata": {},
   "outputs": [],
   "source": [
    "def find_in_matrix(pattern, text):\n",
    "\n",
    "    t0 = perf_counter()\n",
    "\n",
    "    # automata creation\n",
    "    alphabet, max_len = get_text_info(text)\n",
    "    root = create_trie(pattern)\n",
    "    transition, _ = multi_sma(root, alphabet)\n",
    "\n",
    "    # translating the text to array of states\n",
    "    state_array = create_state_array(text, alphabet, transition)\n",
    "\n",
    "    # translating the pattern to one dimensional list that we'll search for in the state array\n",
    "    pattern_states = get_pattern_states(pattern, transition)\n",
    "\n",
    "    t1 = perf_counter()\n",
    "\n",
    "    # creating an automata for pattern_states\n",
    "    pattern_root = create_trie([pattern_states])\n",
    "    pattern_transition, _ = multi_sma(pattern_root, set(pattern_states))\n",
    "\n",
    "    # searching for the pattern\n",
    "    result = []\n",
    "    for i in range(len(state_array)):\n",
    "        state = 0\n",
    "        for j in range(len(state_array[0])):\n",
    "            state = pattern_transition[state].setdefault(state_array[i][j], 0)\n",
    "            if state == len(pattern_states) - 1:\n",
    "                result.append((i, j))\n",
    "\n",
    "    t2 = perf_counter()\n",
    "    return result, t1 - t0, t2 - t1"
   ]
  },
  {
   "cell_type": "markdown",
   "id": "cf0e8fa5",
   "metadata": {},
   "source": [
    "### Task 2\n",
    "Firstly we will extract the information about our text"
   ]
  },
  {
   "cell_type": "code",
   "execution_count": 9,
   "id": "fa9559fd",
   "metadata": {},
   "outputs": [],
   "source": [
    "file = open(\"haystack.txt\", \"r\")\n",
    "text = file.readlines()\n",
    "file.close()\n",
    "alphabet, max_len = get_text_info(text)"
   ]
  },
  {
   "cell_type": "markdown",
   "id": "adbd6481",
   "metadata": {},
   "source": [
    "We can't directly use the code from task 1 as we need to find several different two dimensional patterns. However we can still use previous functions to create a multipple pattern matching automata"
   ]
  },
  {
   "cell_type": "code",
   "execution_count": 10,
   "id": "12ab3806",
   "metadata": {
    "scrolled": false
   },
   "outputs": [],
   "source": [
    "# Our algorithms search the code in top down order so 2 identical characters (#) in the same column will make \"##\" pattern\n",
    "patterns = []\n",
    "for letter in alphabet:\n",
    "    patterns.append(letter + letter)  # python string concatenation\n",
    "\n",
    "root = create_trie(patterns)\n",
    "transition, pattern_match = multi_sma(root, alphabet)\n",
    "state_array = create_state_array(text, alphabet, transition, max_len)"
   ]
  },
  {
   "cell_type": "markdown",
   "id": "45bf2c5d",
   "metadata": {},
   "source": [
    "let's notice that when creating a trie structure we initialize nodes follwing DFS graph traverse. So since the root's id is 0 and each leaf is in the distance of 2 from the root, we can be certain that leave nodes' id-s will always be even numbers (but different that 0) and internal node's will have odd id-s"
   ]
  },
  {
   "cell_type": "code",
   "execution_count": 11,
   "id": "718c013d",
   "metadata": {},
   "outputs": [
    {
     "name": "stdout",
     "output_type": "stream",
     "text": [
      "[(1, 7), (1, 10), (1, 27), (1, 58), (1, 63), (1, 73), (1, 82), (1, 83), (2, 2), (2, 3)] 394\n"
     ]
    }
   ],
   "source": [
    "result = []\n",
    "for i in range(len(state_array)):\n",
    "    for j in range(len(state_array[i])):\n",
    "        if (\n",
    "            state_array[i][j] % 2 == 0 and state_array[i][j] != 0\n",
    "        ):  # pattern is found if the state is an even and different than 0\n",
    "            result.append((i, j))\n",
    "print(result[:10], len(result))"
   ]
  },
  {
   "cell_type": "markdown",
   "id": "29f16135",
   "metadata": {},
   "source": [
    "We can use simpler algorithm that will read the text linearly, with each character being read twice which in this tasks is a better and simpler solution since the SMA based one needs to read the text to dermine the alphabet which forces it to read the text twice anyway"
   ]
  },
  {
   "cell_type": "code",
   "execution_count": 12,
   "id": "6b8f0414",
   "metadata": {},
   "outputs": [
    {
     "name": "stdout",
     "output_type": "stream",
     "text": [
      "[(1, 7), (1, 10), (1, 27), (1, 58), (1, 63), (1, 73), (1, 82), (1, 83), (2, 2), (2, 3)] 394\n"
     ]
    }
   ],
   "source": [
    "result = []\n",
    "for i in range(len(text) - 1):\n",
    "    for j in range(len(text[i])):\n",
    "        if len(text[i + 1]) > j and text[i][j] == text[i + 1][j]:\n",
    "            result.append((i + 1, j))\n",
    "print(result[:10], len(result))"
   ]
  },
  {
   "cell_type": "markdown",
   "id": "34be524c",
   "metadata": {},
   "source": [
    "### Task 2\n",
    "In task 2 we will need 3 different patterns. \"tt\", \"  \" and \"hh\""
   ]
  },
  {
   "cell_type": "code",
   "execution_count": 13,
   "id": "b70680ee",
   "metadata": {
    "scrolled": false
   },
   "outputs": [
    {
     "name": "stdout",
     "output_type": "stream",
     "text": [
      "[2, 4, 6]\n"
     ]
    }
   ],
   "source": [
    "patterns = [\"tt\", \"  \", \"hh\"]\n",
    "\n",
    "root = create_trie(patterns)\n",
    "transition, pattern_match = multi_sma(root, alphabet)\n",
    "\n",
    "pattern_states = get_pattern_states(patterns, transition)\n",
    "print(pattern_states)  # equal to [2,4,6]\n",
    "# so finding \"t h\" is equivalent to finding [2,4,6] pattern in the state array and finding \"th\" to finding [2,6]\n",
    "\n",
    "state_array = create_state_array(text, alphabet, transition, max_len)"
   ]
  },
  {
   "cell_type": "markdown",
   "id": "36f9d825",
   "metadata": {},
   "source": [
    "now let's find our patterns. We cen create a simple automaton for finding 2 patterns"
   ]
  },
  {
   "cell_type": "code",
   "execution_count": 14,
   "id": "e7b71652",
   "metadata": {},
   "outputs": [
    {
     "name": "stdout",
     "output_type": "stream",
     "text": [
      "[(38, 2)]\n"
     ]
    }
   ],
   "source": [
    "patterns_b = [\n",
    "    [pattern_states[0], pattern_states[1], pattern_states[2]],\n",
    "    [pattern_states[0], pattern_states[2]],\n",
    "]\n",
    "\n",
    "# creating multiple pattern searching automaton\n",
    "root_b = create_trie(patterns_b)\n",
    "transition_b, pattern_match_b = multi_sma(root_b, set([2, 4, 6]))\n",
    "\n",
    "state = 0\n",
    "result = []\n",
    "for i in range(len(state_array)):\n",
    "    for j in range(max_len):\n",
    "        state = transition_b[state].setdefault(state_array[i][j], 0)\n",
    "        if state == pattern_match_b[0] or state == pattern_match_b[1]:\n",
    "            result.append((i, j))\n",
    "\n",
    "print(result)"
   ]
  },
  {
   "cell_type": "markdown",
   "id": "c1587f42",
   "metadata": {},
   "source": [
    "# Tasks 4-7\n",
    "To process images we'll need to translate them to an arrays. Please note that the image that we'll be searching for must be transposed as each pattern that is vertical in the image must be horizontal in the python list"
   ]
  },
  {
   "cell_type": "code",
   "execution_count": 15,
   "id": "f1d277fb",
   "metadata": {},
   "outputs": [],
   "source": [
    "def image_to_matrix(image, transposing=False):\n",
    "    image_map = image.load()\n",
    "    result = []  # resulting array\n",
    "\n",
    "    # width and hight. Swapped if need be\n",
    "    h, w = image.height, image.width\n",
    "    if transposing:\n",
    "        h, w = w, h\n",
    "\n",
    "    for i in range(h):\n",
    "        row = []\n",
    "        for j in range(w):\n",
    "            if transposing:\n",
    "                row.append(image_map[i, j][0])\n",
    "            else:\n",
    "                row.append(image_map[j, i][0])\n",
    "        result.append(row)\n",
    "    return result"
   ]
  },
  {
   "cell_type": "code",
   "execution_count": 16,
   "id": "aaa7715d",
   "metadata": {
    "scrolled": false
   },
   "outputs": [],
   "source": [
    "# loading images\n",
    "p_haystack = Image.open(\"haystack.png\")\n",
    "haystack = image_to_matrix(p_haystack)\n",
    "p_haystack.close\n",
    "\n",
    "p_pattern = Image.open(\"pattern.png\")\n",
    "pattern = image_to_matrix(p_pattern, transposing=True)\n",
    "p_pattern.close()\n",
    "\n",
    "p_t, p_h, p_a, p_n = (\n",
    "    Image.open(\"t.png\"),\n",
    "    Image.open(\"h.png\"),\n",
    "    Image.open(\"h.png\"),\n",
    "    Image.open(\"n.png\"),\n",
    ")\n",
    "t = image_to_matrix(p_t, transposing=True)\n",
    "h = image_to_matrix(p_h, transposing=True)\n",
    "a = image_to_matrix(p_a, transposing=True)\n",
    "n = image_to_matrix(p_n, transposing=True)\n",
    "p_t.close()\n",
    "p_h.close()\n",
    "p_a.close()\n",
    "p_n.close()\n",
    "\n",
    "p_tc1, p_tc2, p_tc3 = (\n",
    "    Image.open(\"tc1.png\"),\n",
    "    Image.open(\"tc2.png\"),\n",
    "    Image.open(\"tc3.png\"),\n",
    ")\n",
    "tc1 = image_to_matrix(p_tc1, transposing=True)\n",
    "tc2 = image_to_matrix(p_tc2, transposing=True)\n",
    "tc3 = image_to_matrix(p_tc3, transposing=True)\n",
    "p_tc1.close()\n",
    "p_tc2.close()\n",
    "p_tc3.close()\n",
    "\n",
    "p_haystack_t = Image.open(\"haystack.png\")\n",
    "haystack_t = image_to_matrix(p_haystack_t, transposing=True)\n",
    "p_haystack_t.close()"
   ]
  },
  {
   "cell_type": "markdown",
   "id": "14a75607",
   "metadata": {},
   "source": [
    "### Task 4\n",
    "We can finally use the function from task 1 to simply search for pattern array in image array"
   ]
  },
  {
   "cell_type": "code",
   "execution_count": 17,
   "id": "0ef84c91",
   "metadata": {
    "scrolled": false
   },
   "outputs": [
    {
     "name": "stdout",
     "output_type": "stream",
     "text": [
      "388 [(47, 96), (47, 285), (47, 356), (47, 503), (47, 621), (47, 639), (69, 81), (69, 123), (69, 152), (69, 222)]\n",
      "179 [(47, 106), (69, 388), (69, 546), (69, 633), (91, 396), (91, 524), (113, 195), (113, 673), (113, 699), (135, 230)]\n",
      "179 [(47, 106), (69, 388), (69, 546), (69, 633), (91, 396), (91, 524), (113, 195), (113, 673), (113, 699), (135, 230)]\n",
      "331 [(47, 48), (47, 226), (47, 254), (47, 442), (47, 529), (47, 613), (47, 665), (47, 770), (69, 109), (69, 719)]\n"
     ]
    }
   ],
   "source": [
    "t_results = find_in_matrix(t, haystack)\n",
    "h_results = find_in_matrix(h, haystack)\n",
    "a_results = find_in_matrix(a, haystack)\n",
    "n_results = find_in_matrix(n, haystack)\n",
    "\n",
    "# printing number of results and first 10 results\n",
    "print(len(t_results[0]), t_results[0][: min(10, len(t_results[0]))])\n",
    "print(len(h_results[0]), h_results[0][: min(10, len(h_results[0]))])\n",
    "print(len(a_results[0]), a_results[0][: min(10, len(a_results[0]))])\n",
    "print(len(n_results[0]), n_results[0][: min(10, len(n_results[0]))])"
   ]
  },
  {
   "cell_type": "markdown",
   "id": "43d0ac34",
   "metadata": {},
   "source": [
    "### Task 5\n",
    "We can do exactly the same to find larger patterns"
   ]
  },
  {
   "cell_type": "code",
   "execution_count": 18,
   "id": "7e4e1f2c",
   "metadata": {
    "scrolled": false
   },
   "outputs": [
    {
     "name": "stdout",
     "output_type": "stream",
     "text": [
      "[(491, 282), (513, 526), (557, 340), (601, 240), (645, 346)]\n"
     ]
    }
   ],
   "source": [
    "print(find_in_matrix(pattern, haystack)[0])"
   ]
  },
  {
   "cell_type": "markdown",
   "id": "7a16734e",
   "metadata": {},
   "source": [
    "### Task 6\n",
    "Our function returns not only the lower left corner coordintes for the searched pattern but also the time of automata creation phase and the time of the pattern searching phase"
   ]
  },
  {
   "cell_type": "code",
   "execution_count": 19,
   "id": "309e049d",
   "metadata": {},
   "outputs": [],
   "source": [
    "time_compare_1 = find_in_matrix(tc1, haystack)\n",
    "time_compare_2 = find_in_matrix(tc2, haystack)\n",
    "time_compare_3 = find_in_matrix(tc3, haystack)"
   ]
  },
  {
   "cell_type": "code",
   "execution_count": 20,
   "id": "ec37691f",
   "metadata": {},
   "outputs": [
    {
     "name": "stdout",
     "output_type": "stream",
     "text": [
      "times for 201 x 265 pixels :\n",
      " 5.0608s and 0.41692s\n",
      "\n",
      "times for 85 x 116 pixels :\n",
      " 1.87262s and 0.33925s\n",
      "\n",
      "times for 58 x 80 pixels :\n",
      " 0.9549s and 0.35173s\n"
     ]
    }
   ],
   "source": [
    "print(\n",
    "    f\"times for {len(tc1[0])} x {len(tc1)} pixels :\\n {round(time_compare_1[1],5)}s and {round(time_compare_1[2],5)}s\\n\"\n",
    ")\n",
    "print(\n",
    "    f\"times for {len(tc2[0])} x {len(tc2)} pixels :\\n {round(time_compare_2[1],5)}s and {round(time_compare_2[2],5)}s\\n\"\n",
    ")\n",
    "print(\n",
    "    f\"times for {len(tc3[0])} x {len(tc3)} pixels :\\n {round(time_compare_3[1],5)}s and {round(time_compare_3[2],5)}s\\n\"\n",
    ")"
   ]
  },
  {
   "cell_type": "markdown",
   "id": "992eac7f",
   "metadata": {},
   "source": [
    "### Task 7\n",
    "To slice the image we can use numpy library's intuitive list comprehensions"
   ]
  },
  {
   "cell_type": "code",
   "execution_count": 21,
   "id": "d5d9d764",
   "metadata": {},
   "outputs": [],
   "source": [
    "half = np.array(haystack_t)[:, : len(haystack_t[0]) // 2]\n",
    "quarter = np.array(haystack_t)[:, : len(haystack_t[0]) // 4]\n",
    "eighth = np.array(haystack_t)[:, : len(haystack_t[0]) // 8]"
   ]
  },
  {
   "cell_type": "code",
   "execution_count": 22,
   "id": "73d13aac",
   "metadata": {},
   "outputs": [],
   "source": [
    "half_time = find_in_matrix(half, haystack)\n",
    "quarter_time = find_in_matrix(quarter, haystack)\n",
    "eighth_time = find_in_matrix(eighth, haystack)"
   ]
  },
  {
   "cell_type": "code",
   "execution_count": 23,
   "id": "00118e8a",
   "metadata": {
    "scrolled": false
   },
   "outputs": [
    {
     "name": "stdout",
     "output_type": "stream",
     "text": [
      "search time for 950 x 860 pixels :\n",
      " 1.16823s\n",
      "\n",
      "search time for 475 x 860 pixels :\n",
      " 2.58366s\n",
      "\n",
      "search time for 237 x 860 pixels :\n",
      " 1.18434s\n"
     ]
    }
   ],
   "source": [
    "print(\n",
    "    f\"search time for {len(half[0])} x {len(half)} pixels :\\n {round(half_time[2],5)}s\\n\"\n",
    ")\n",
    "print(\n",
    "    f\"search time for {len(quarter[0])} x {len(quarter)} pixels :\\n {round(quarter_time[2],5)}s\\n\"\n",
    ")\n",
    "print(\n",
    "    f\"search time for {len(eighth[0])} x {len(eighth)} pixels :\\n {round(eighth_time[2],5)}s\\n\"\n",
    ")"
   ]
  },
  {
   "cell_type": "code",
   "execution_count": 24,
   "id": "29ec185a",
   "metadata": {},
   "outputs": [
    {
     "name": "stdout",
     "output_type": "stream",
     "text": [
      "automata building time for 950 x 860 pixels :\n",
      " 123.67523s\n",
      "\n",
      "automata building for 475 x 860 pixels :\n",
      " 75.209s\n",
      "\n",
      "automata building for 237 x 860 pixels :\n",
      " 21.62053s\n"
     ]
    }
   ],
   "source": [
    "print(\n",
    "    f\"automata building time for {len(half[0])} x {len(half)} pixels :\\n {round(half_time[1],5)}s\\n\"\n",
    ")\n",
    "print(\n",
    "    f\"automata building for {len(quarter[0])} x {len(quarter)} pixels :\\n {round(quarter_time[1],5)}s\\n\"\n",
    ")\n",
    "print(\n",
    "    f\"automata building for {len(eighth[0])} x {len(eighth)} pixels :\\n {round(eighth_time[1],5)}s\\n\"\n",
    ")"
   ]
  },
  {
   "cell_type": "code",
   "execution_count": null,
   "id": "4446d57d",
   "metadata": {},
   "outputs": [],
   "source": []
  }
 ],
 "metadata": {
  "kernelspec": {
   "display_name": "Python 3",
   "language": "python",
   "name": "python3"
  },
  "language_info": {
   "codemirror_mode": {
    "name": "ipython",
    "version": 3
   },
   "file_extension": ".py",
   "mimetype": "text/x-python",
   "name": "python",
   "nbconvert_exporter": "python",
   "pygments_lexer": "ipython3",
   "version": "3.8.8"
  }
 },
 "nbformat": 4,
 "nbformat_minor": 5
}
